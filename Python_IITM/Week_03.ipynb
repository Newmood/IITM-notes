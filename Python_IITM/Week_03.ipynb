{
 "cells": [
  {
   "cell_type": "markdown",
   "id": "f64b4727",
   "metadata": {},
   "source": [
    "# Week 3"
   ]
  },
  {
   "cell_type": "markdown",
   "id": "f2b1d785",
   "metadata": {},
   "source": [
    "## Introduction to while loop"
   ]
  },
  {
   "cell_type": "code",
   "execution_count": null,
   "id": "2c5b2f7a",
   "metadata": {},
   "outputs": [],
   "source": [
    "print('In which year did India get its Independence?')\n",
    "year=int(input())\n",
    "\n",
    "\n",
    "if (year==1947):\n",
    "    print('Nice memory.')\n",
    "else:\n",
    "    print('Bruh.')\n",
    "    print('Okay i will give you second chance (unlike her)')\n",
    "    print('In which year did India get its Independence?')\n",
    "    year=int(input())\n",
    "    \n",
    "    if(year==1947):\n",
    "        print('Aight, you got it.')\n",
    "    else:\n",
    "        print('I think she was right.')\n"
   ]
  },
  {
   "cell_type": "markdown",
   "id": "b9025ab2",
   "metadata": {},
   "source": [
    "Now we will write a code, that lets the user attempt as many times as they want unless they get the right answer."
   ]
  },
  {
   "cell_type": "code",
   "execution_count": null,
   "id": "15a6124d",
   "metadata": {},
   "outputs": [],
   "source": [
    "print('In which year did India get its Independence?')\n",
    "year=int(input())\n",
    "\n",
    "while(year!=1947):\n",
    "  print(\"You got this wrong, please try again.\")\n",
    "  year=int(input())\n",
    "print('Okay, you got it right.')"
   ]
  },
  {
   "cell_type": "markdown",
   "id": "dd7d3e5e",
   "metadata": {},
   "source": [
    "Finding factorial of a number using while loop:"
   ]
  },
  {
   "cell_type": "code",
   "execution_count": null,
   "id": "92393b2c",
   "metadata": {},
   "outputs": [],
   "source": [
    "print(\"Enter a number\")\n",
    "n=int(input())\n",
    "\n",
    "if (n<0):\n",
    "  print('Not defined')\n",
    "else:\n",
    "    i=1\n",
    "    ans=1\n",
    "    while(i<=n):\n",
    "      ans=ans*i\n",
    "      i=i+1\n",
    "    print(ans)"
   ]
  },
  {
   "cell_type": "markdown",
   "id": "944ccb97",
   "metadata": {},
   "source": [
    "## While loop questions"
   ]
  },
  {
   "cell_type": "markdown",
   "id": "d06bec7b",
   "metadata": {},
   "source": [
    "Problem 1: Find the factorial of a given number"
   ]
  },
  {
   "cell_type": "code",
   "execution_count": null,
   "id": "912a80bc",
   "metadata": {},
   "outputs": [],
   "source": [
    "num=int(input('Enter a number: '))\n",
    "fact=1\n",
    "if (num<0):\n",
    "    print('Not defined')\n",
    "else:\n",
    "    while(num>0):\n",
    "        fact=fact*num\n",
    "        num=num-1\n",
    "    print(fact)"
   ]
  },
  {
   "cell_type": "markdown",
   "id": "87735cf4",
   "metadata": {},
   "source": [
    "Problem 2: Find the numebr of digits in a given number"
   ]
  },
  {
   "cell_type": "code",
   "execution_count": null,
   "id": "621d9caf",
   "metadata": {},
   "outputs": [],
   "source": [
    "num = abs(int(input('Enter a number: ')))\n",
    "digits = 1\n",
    "while(num>9):\n",
    "    num = num // 10\n",
    "    digits = digits + 1\n",
    "print(digits)"
   ]
  },
  {
   "cell_type": "markdown",
   "id": "1b3cdfd2",
   "metadata": {},
   "source": [
    "Problem 3: Reverse the digits in the given numebr"
   ]
  },
  {
   "cell_type": "code",
   "execution_count": null,
   "id": "4f9209c8",
   "metadata": {},
   "outputs": [],
   "source": [
    "num=int(input('Enter a number: '))\n",
    "absnum=abs(num)\n",
    "rev = absnum % 10\n",
    "absnum = absnum // 10\n",
    "while (absnum>0):\n",
    "    r = absnum % 10\n",
    "    rev = rev*10 + r\n",
    "    absnum = absnum // 10\n",
    "if (num>0):\n",
    "    print(rev)\n",
    "else: \n",
    "    print(rev-2*rev)"
   ]
  },
  {
   "cell_type": "markdown",
   "id": "03a3dd23",
   "metadata": {},
   "source": [
    "Problem 4: Find whether the given number is a palindrome or not"
   ]
  },
  {
   "cell_type": "code",
   "execution_count": null,
   "id": "bf9d0f5b",
   "metadata": {},
   "outputs": [],
   "source": [
    "num=int(input('Enter a number: '))\n",
    "absnum=abs(num)\n",
    "rev = absnum % 10\n",
    "absnum = absnum // 10\n",
    "while (absnum>0):\n",
    "    r = absnum % 10\n",
    "    rev = rev*10 + r\n",
    "    absnum = absnum // 10\n",
    "if (num<0):\n",
    "    rev= rev - 2 * rev\n",
    "if (num == rev):\n",
    "    print('Palindrome')\n",
    "else: \n",
    "    print('Not a palindrome')"
   ]
  },
  {
   "cell_type": "markdown",
   "id": "098b25f0",
   "metadata": {},
   "source": [
    "## Introduction to for loops"
   ]
  },
  {
   "cell_type": "code",
   "execution_count": null,
   "id": "bb59817b",
   "metadata": {},
   "outputs": [],
   "source": [
    "#This prints hello world 10 times\n",
    "\n",
    "for i in range(10):\n",
    "    print(i,'Hello world')   "
   ]
  },
  {
   "cell_type": "code",
   "execution_count": null,
   "id": "d79ab711",
   "metadata": {},
   "outputs": [],
   "source": [
    "#An example of for loop\n",
    "\n",
    "n=int(input('Enter a number: '))\n",
    "for i in range(n):\n",
    "    if(i % 2 == 0):\n",
    "        print(i, \"Hello, World\")\n",
    "    else:\n",
    "        print(i, \"Hi, World\")"
   ]
  },
  {
   "cell_type": "code",
   "execution_count": null,
   "id": "f6d8e536",
   "metadata": {},
   "outputs": [],
   "source": [
    "#Sum of first n positive integers\n",
    "\n",
    "n=int(input('Enter a number: '))\n",
    "ans=0\n",
    "for i in range(n):\n",
    "    ans=ans+i\n",
    "print(ans)"
   ]
  },
  {
   "cell_type": "code",
   "execution_count": null,
   "id": "75e77548",
   "metadata": {},
   "outputs": [],
   "source": [
    "#for loop for multiplication tables\n",
    "\n",
    "a=int(input('Enter start number for multiplication tables: '))\n",
    "b=int(input('Enter end number for multiplcation tables: '))\n",
    "c=int(input('Enter start number for multiplier:  '))\n",
    "d=int(input('Enter end number for multiplier: '))\n",
    "\n",
    "for n in range(a,b+1):\n",
    "    for i in range(c,d+1):\n",
    "        print( n,  '*', i ,'=', n*i)"
   ]
  },
  {
   "cell_type": "code",
   "execution_count": null,
   "id": "418c6f0c",
   "metadata": {},
   "outputs": [],
   "source": [
    "#More on range\n",
    "#3rd parameter in range(start, end, step)\n",
    "\n",
    "for x in range(1, 11, 2):\n",
    "    print(x)\n",
    "\n",
    "for x in range(10, -1, -2):\n",
    "    print(x)"
   ]
  },
  {
   "cell_type": "code",
   "execution_count": null,
   "id": "8bdcd4c6",
   "metadata": {},
   "outputs": [],
   "source": [
    "#for loop without range (foreach)\n",
    "\n",
    "country= \"India\"\n",
    "for letter in country:\n",
    "    print(letter)"
   ]
  },
  {
   "cell_type": "markdown",
   "id": "341d4978",
   "metadata": {},
   "source": [
    "## Difference between for and while loop\n",
    "Tutorial on for loop and difference between for and while loop link: https://www.youtube.com/watch?v=7D2SFKSiiLg"
   ]
  },
  {
   "cell_type": "code",
   "execution_count": null,
   "id": "83776217",
   "metadata": {},
   "outputs": [],
   "source": [
    "#factorial using for loops\n",
    "'''\n",
    "num=int(input(\"Enter a number: \"))\n",
    "fact=1\n",
    "for i in range(num,1,-1):\n",
    "  fact = fact*i\n",
    "print(fact)\n",
    "'''\n",
    "\n",
    "#find the number of digits in the given number (for loop not recommended)\n",
    "'''\n",
    "num=abs(int(input(\"Enter a number: \")))\n",
    "strnum= str(num)\n",
    "digits=0\n",
    "for c in strnum:\n",
    "  digits=digits+1\n",
    "print(digits)\n",
    "'''\n",
    "\n",
    "#reverse the digits in the given number (for loop not recommended)\n",
    "'''\n",
    "num=int(input('Enter a number: '))\n",
    "AbsStrnum= str(abs(num))\n",
    "rev = ''\n",
    "for c in AbsStrnum:\n",
    "  rev = c + rev\n",
    "if (num>=0):\n",
    "  print(rev)\n",
    "else:\n",
    "  print('-'+rev)\n",
    "'''\n",
    "\n",
    "#check whether the given number is palindrome or not\n",
    "'''\n",
    "num = int(input('Enter a number: '))\n",
    "absStrnum = str(abs(num))\n",
    "rev = ''\n",
    "for c in absStrnum:\n",
    "  rev = c + rev\n",
    "if (num < 0):\n",
    "  rev = '-' + rev\n",
    "if (num == int(rev)):\n",
    "  print('Palindrome')\n",
    "else:\n",
    "  print('Not a palindrome')\n",
    "'''"
   ]
  },
  {
   "cell_type": "markdown",
   "id": "49721ead",
   "metadata": {},
   "source": [
    "## Formatted printing"
   ]
  },
  {
   "cell_type": "code",
   "execution_count": null,
   "id": "094a577d",
   "metadata": {},
   "outputs": [],
   "source": [
    "'''\n",
    "#printing in same lines\n",
    "\n",
    "for x in range(10):\n",
    "  print(x, end='')\n",
    "'''\n",
    "\n",
    "#date example\n",
    "'''\n",
    "d=10\n",
    "m=10\n",
    "y=2022\n",
    "print(\"Today's date is\", end=' ')\n",
    "print(d,m,y, sep='/')\n",
    "'''\n",
    "\n",
    "#formatted printing\n",
    "'''\n",
    "num=int(input('Enter a number= '))\n",
    "for i in range(1,11):\n",
    "  #print(num,'x',i, '=', num*i)\n",
    "  #print(f'{num} x {i} = {num*i}')\n",
    "  #print('{0}x{1}={2}'.format(num,i,num*i))\n",
    "  #print('%d x %d = %d' %(num,i,num*i)) #print using string modulo operator\n",
    "'''"
   ]
  },
  {
   "cell_type": "markdown",
   "id": "da6b6c7a",
   "metadata": {},
   "source": [
    "## Nested for Loops"
   ]
  },
  {
   "cell_type": "code",
   "execution_count": null,
   "id": "6e69e7b3",
   "metadata": {},
   "outputs": [],
   "source": [
    "#example of a nested for loop\n",
    "'''\n",
    "s = 'VIBGYOR'\n",
    "t = 'VIBGYOR'\n",
    "count = 0\n",
    "for i in range(7):\n",
    "  for j in range(7):\n",
    "    print(s[i],s[j])\n",
    "    count = count + 1\n",
    "print('The total number of ways is:',count )\n",
    "'''\n",
    "\n",
    "#tutorial on nested loops\n",
    "\n",
    "#find all the prime numbers less than the entered number\n",
    "'''\n",
    "num=int(input(\"Enter a number: \"))\n",
    "if (num>2):\n",
    "  print(2,end=' ')\n",
    "for i in range(3,num):\n",
    "  flag = False\n",
    "  for j in range(2,i):\n",
    "    if(i % j == 0):\n",
    "      flag= False\n",
    "      break\n",
    "    else:\n",
    "      flag = True\n",
    "  if (flag):\n",
    "    print(i, end=' ')\n",
    "'''\n",
    "#find the total profit or loss of each trader working in a trading firm, information regarding number of traders and number of transactions is unknown\n",
    "'''\n",
    "empID = input('Enter employee ID: ')\n",
    "while(empID != '-1'):\n",
    "  trade=int(input('Enter trade amount: '))\n",
    "  profit_loss = 0\n",
    "  while(trade != 0):\n",
    "    profit_loss = profit_loss + trade\n",
    "    trade = int(input('Enter the trade amount: '))\n",
    "  print(f'profit/loss for {empID} is {profit_loss}')\n",
    "  empID = input('\\nEnter employee ID: ')\n",
    "''' \n",
    "#find the daywise total rainfall for the entered duration of time\n",
    "'''\n",
    "days=int(input('Enter the number of days: '))\n",
    "for i in range(1, days+1):\n",
    "  total = 0\n",
    "  rainfall = int(input('Enter the rainfall: '))\n",
    "  while(rainfall != -1):\n",
    "    total = total + rainfall\n",
    "    rainfall = int(input('Enter the rainfall: '))\n",
    "  print(f'Total rainfall for the day {i} is {total}')\n",
    "'''\n",
    "#find the length of the longest word from the set of words enetered by the user\n",
    "'''\n",
    "word = input('Enter a word: ')\n",
    "maxLen = 0\n",
    "while (word != '-1'):\n",
    "  count = 0\n",
    "  for letter in word:\n",
    "    count = count + 1\n",
    "  if(count > maxLen):\n",
    "    maxLen = count\n",
    "  word = input('Enter a word: ')\n",
    "print('The length of the longest word is %s' %maxLen)\n",
    "'''"
   ]
  },
  {
   "cell_type": "markdown",
   "id": "80ab6f2a",
   "metadata": {},
   "source": [
    "## Break, continue and pass"
   ]
  },
  {
   "cell_type": "code",
   "execution_count": null,
   "id": "fefc8170",
   "metadata": {},
   "outputs": [],
   "source": [
    "#email example (break is like exitloop as we say in computational thinking)\n",
    "\n",
    "email = input('Enter your email: ')\n",
    "for c in email:\n",
    "    if( c == '@' ):\n",
    "        break\n",
    "    print(c, end='')\n",
    "\n",
    "#continue\n",
    "\n",
    "email = input('Enter your email: ')\n",
    "for c in email:\n",
    "    if( c == '@' ):\n",
    "        print('')\n",
    "        continue\n",
    "    print(c, end='')\n",
    "\n",
    "#pass\n",
    "\n",
    "for x in range(11):\n",
    "    if (x%3 == 0):\n",
    "        print(x)\n",
    "    else:\n",
    "        pass #think like this: i am not sure what to do in else right now, so just pass"
   ]
  }
 ],
 "metadata": {
  "kernelspec": {
   "display_name": "Python 3 (ipykernel)",
   "language": "python",
   "name": "python3"
  },
  "language_info": {
   "codemirror_mode": {
    "name": "ipython",
    "version": 3
   },
   "file_extension": ".py",
   "mimetype": "text/x-python",
   "name": "python",
   "nbconvert_exporter": "python",
   "pygments_lexer": "ipython3",
   "version": "3.9.13"
  }
 },
 "nbformat": 4,
 "nbformat_minor": 5
}
