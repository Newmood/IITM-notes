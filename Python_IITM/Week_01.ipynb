{
 "cells": [
  {
   "cell_type": "markdown",
   "id": "880a433a",
   "metadata": {},
   "source": [
    "# Week 1"
   ]
  },
  {
   "cell_type": "markdown",
   "id": "08c4801b",
   "metadata": {},
   "source": [
    "## Introduction"
   ]
  },
  {
   "cell_type": "code",
   "execution_count": 1,
   "id": "c1de01f2",
   "metadata": {},
   "outputs": [
    {
     "name": "stdout",
     "output_type": "stream",
     "text": [
      "hello world\n",
      "what is your name? John\n"
     ]
    }
   ],
   "source": [
    "print(\"hello world\")\n",
    "n=str(input(\"what is your name? \"))"
   ]
  },
  {
   "cell_type": "code",
   "execution_count": 2,
   "id": "aaea2b89",
   "metadata": {},
   "outputs": [
    {
     "name": "stdout",
     "output_type": "stream",
     "text": [
      "What is your name?\n",
      "John\n",
      "What is your location?\n",
      "Earth\n",
      "Hello John how is the weather at  Earth ?\n",
      "Hostile\n",
      "What is your age?\n",
      "42\n",
      "Good to know John you are 42 years old\n"
     ]
    }
   ],
   "source": [
    "# Interactive\n",
    "\n",
    "print(\"What is your name?\")\n",
    "n = str(input())\n",
    "print(\"What is your location?\")\n",
    "p = str(input())\n",
    "print(\"Hello\", n, \"how is the weather at \", p, \"?\")\n",
    "m= str(input())\n",
    "print(\"What is your age?\")\n",
    "age=int(input())\n",
    "print( \"Good to know\", n, \"you are\",  age, \"years old\")"
   ]
  },
  {
   "cell_type": "markdown",
   "id": "8932595c",
   "metadata": {},
   "source": [
    "## Data type"
   ]
  },
  {
   "cell_type": "code",
   "execution_count": 4,
   "id": "6f475ba1",
   "metadata": {},
   "outputs": [
    {
     "name": "stdout",
     "output_type": "stream",
     "text": [
      "10\n",
      "6.3\n",
      "john\n",
      "n is of type: <class 'int'>\n",
      "r is of type: <class 'float'>\n",
      "k is of type: <class 'str'>\n"
     ]
    }
   ],
   "source": [
    "n = 10\n",
    "print(n)\n",
    "r = 6.3\n",
    "print(r)\n",
    "k = 'john'\n",
    "print(k)\n",
    "# type commands tell us the type of the vairable\n",
    "print(\"n is of type:\", type(n))\n",
    "print(\"r is of type:\", type(r))\n",
    "print(\"k is of type:\", type(k))"
   ]
  },
  {
   "cell_type": "code",
   "execution_count": 5,
   "id": "ea8151d3",
   "metadata": {},
   "outputs": [
    {
     "name": "stdout",
     "output_type": "stream",
     "text": [
      "10 68\n",
      "<class 'list'>\n"
     ]
    }
   ],
   "source": [
    "l=[10,20,30,68,722]\n",
    "print(l[0], l[3])\n",
    "print(type(l))"
   ]
  },
  {
   "cell_type": "code",
   "execution_count": 6,
   "id": "c66eadf6",
   "metadata": {},
   "outputs": [
    {
     "name": "stdout",
     "output_type": "stream",
     "text": [
      "<class 'bool'>\n",
      "<class 'bool'>\n"
     ]
    }
   ],
   "source": [
    "b1=True\n",
    "b2=False\n",
    "print(type(b1))\n",
    "print(type(b2))"
   ]
  },
  {
   "cell_type": "code",
   "execution_count": 7,
   "id": "6ce5ea00",
   "metadata": {},
   "outputs": [],
   "source": [
    "# we have seen 4 different data types, int,str,bool,float\n",
    "# converting data types (also called typecasting)\n",
    "a=float(9)\n",
    "b=int(6.8)\n",
    "c=str(9)\n",
    "d=bool(10)\n",
    "e=bool(0)\n",
    "f=bool(-10)"
   ]
  },
  {
   "cell_type": "code",
   "execution_count": 8,
   "id": "9e1d252d",
   "metadata": {},
   "outputs": [
    {
     "name": "stdout",
     "output_type": "stream",
     "text": [
      "9.0 <class 'float'>\n",
      "6 <class 'int'>\n",
      "9 <class 'str'>\n",
      "True <class 'bool'>\n",
      "False <class 'bool'>\n",
      "True <class 'bool'>\n"
     ]
    }
   ],
   "source": [
    "# any integer except zero when converted to boolean value gives true. 0 gives false\n",
    "print(a, type(a))\n",
    "print(b, type(b))\n",
    "print(c, type(c))\n",
    "print(d, type(d))\n",
    "print(e, type(e))\n",
    "print(f, type(f))"
   ]
  },
  {
   "cell_type": "markdown",
   "id": "f527fa3b",
   "metadata": {},
   "source": [
    "- Again, zero is taken as false in boolean, the rest all floats are true\n",
    "- Converting string to boolean: empty string is false, rest anything is true"
   ]
  },
  {
   "cell_type": "code",
   "execution_count": 9,
   "id": "6b4f1602",
   "metadata": {},
   "outputs": [
    {
     "name": "stdout",
     "output_type": "stream",
     "text": [
      "True a1 is of type:  <class 'bool'>\n",
      "False a2 is of type:  <class 'bool'>\n",
      "True a3 is of type:  <class 'bool'>\n"
     ]
    }
   ],
   "source": [
    "#converting float to boolean\n",
    "a1=bool(10.5)\n",
    "a2=bool(0.0)\n",
    "a3=bool(-10.4)\n",
    "\n",
    "print(a1, \"a1 is of type: \",type(a1))\n",
    "print(a2, \"a2 is of type: \",type(a2))\n",
    "print(a3, \"a3 is of type: \",type(a3))"
   ]
  },
  {
   "cell_type": "code",
   "execution_count": 10,
   "id": "1044bc23",
   "metadata": {},
   "outputs": [
    {
     "name": "stdout",
     "output_type": "stream",
     "text": [
      "True a4 is of type:  <class 'bool'>\n",
      "True a5 is of type:  <class 'bool'>\n",
      "False a6 is of type:  <class 'bool'>\n"
     ]
    }
   ],
   "source": [
    "a4=bool('hi')\n",
    "a5=bool(\"10\")\n",
    "a6=bool('')\n",
    "print(a4, \"a4 is of type: \",type(a4))\n",
    "print(a5, \"a5 is of type: \",type(a5))\n",
    "print(a6, \"a6 is of type: \",type(a6))"
   ]
  },
  {
   "cell_type": "markdown",
   "id": "0006142a",
   "metadata": {},
   "source": [
    "## Operators and expression"
   ]
  },
  {
   "cell_type": "code",
   "execution_count": 11,
   "id": "df5fd280",
   "metadata": {},
   "outputs": [
    {
     "name": "stdout",
     "output_type": "stream",
     "text": [
      "5\n",
      "6\n"
     ]
    }
   ],
   "source": [
    "n1 = 2 + 3\n",
    "print(n1)\n",
    "\n",
    "n2 = 2 * 3\n",
    "print(n2)"
   ]
  },
  {
   "cell_type": "code",
   "execution_count": 12,
   "id": "9f085f49",
   "metadata": {},
   "outputs": [
    {
     "name": "stdout",
     "output_type": "stream",
     "text": [
      "5 6\n"
     ]
    }
   ],
   "source": [
    "a1 = 2\n",
    "b1 = 3\n",
    "n3 = a1 + b1\n",
    "n4 = a1 * b1\n",
    "print(n3, n4)"
   ]
  },
  {
   "cell_type": "code",
   "execution_count": 13,
   "id": "c7d21c2b",
   "metadata": {},
   "outputs": [
    {
     "name": "stdout",
     "output_type": "stream",
     "text": [
      "johnearth\n",
      "[1, 2, 3, 2, 7, 9, 15]\n",
      "36\n"
     ]
    }
   ],
   "source": [
    "k = 'john'\n",
    "l = 'earth'\n",
    "n5 = k + l  # which concatenates the two strings\n",
    "print(n5)\n",
    "\n",
    "a2 = [1, 2, 3]\n",
    "b2 = [2, 7, 9, 15]\n",
    "print(a2 + b2)\n",
    "\n",
    "n7 = 10 + 13 * 2\n",
    "# we see it follows a rule operator precedence (BODMAS theory)\n",
    "print(n7)"
   ]
  },
  {
   "cell_type": "markdown",
   "id": "cc4f485c",
   "metadata": {},
   "source": [
    "In python we have three different types of operations namely, arithmetic, relational and logical."
   ]
  },
  {
   "cell_type": "code",
   "execution_count": 14,
   "id": "d3bb7749",
   "metadata": {},
   "outputs": [
    {
     "name": "stdout",
     "output_type": "stream",
     "text": [
      "addition 7\n",
      "subtraction 1\n",
      "multiplicaiton 12\n",
      "division 1.3333333333333333\n",
      "floor division 1\n",
      "modulus 1\n",
      "exponentiation 64\n"
     ]
    }
   ],
   "source": [
    "# arithmetic (+, -, *, /, //, %, **)\n",
    "\n",
    "print('addition', 4 + 3)\n",
    "print('subtraction', 4 - 3)\n",
    "print('multiplicaiton', 4 * 3)\n",
    "print('division', 4 / 3)\n",
    "print('floor division', 4 // 3)\n",
    "print('modulus', 4 % 3 )\n",
    "print('exponentiation', 4**3)"
   ]
  },
  {
   "cell_type": "code",
   "execution_count": 15,
   "id": "d6c07c10",
   "metadata": {},
   "outputs": [
    {
     "name": "stdout",
     "output_type": "stream",
     "text": [
      "Lets see some relational operators:\n",
      "False\n",
      "False\n",
      "True\n"
     ]
    }
   ],
   "source": [
    "# relational (<, >, <=, >=, ==, !=) the output is always boolean\n",
    "\n",
    "print('Lets see some relational operators:')\n",
    "print(5>10)\n",
    "print(5==50)\n",
    "print(71!=50)"
   ]
  },
  {
   "cell_type": "code",
   "execution_count": 16,
   "id": "77d4122f",
   "metadata": {},
   "outputs": [
    {
     "name": "stdout",
     "output_type": "stream",
     "text": [
      "Lets see logical and:\n",
      "True\n",
      "False\n",
      "False\n",
      "False\n",
      "Now lets see logical or:\n",
      "True\n",
      "False\n",
      "True\n",
      "True\n",
      "Now lets see logical not:\n",
      "False\n",
      "True\n",
      "True\n"
     ]
    }
   ],
   "source": [
    "# logical (and, or, not)\n",
    "\n",
    "print('Lets see logical and:')\n",
    "print( True and True)\n",
    "print( False and False)\n",
    "print( True and False)\n",
    "print( False and True)\n",
    "print('Now lets see logical or:')\n",
    "print( True or True)\n",
    "print( False or False)\n",
    "print( True or False)\n",
    "print( False or True)\n",
    "print('Now lets see logical not:')\n",
    "print( not (True))\n",
    "print( not False)  #its not necessary to use braces in not()\n",
    "print( not 0)"
   ]
  },
  {
   "cell_type": "markdown",
   "id": "1a482548",
   "metadata": {},
   "source": [
    "## Strings"
   ]
  },
  {
   "cell_type": "code",
   "execution_count": 17,
   "id": "5fd47845",
   "metadata": {},
   "outputs": [
    {
     "name": "stdout",
     "output_type": "stream",
     "text": [
      "coffeebread\n",
      "e\n",
      "offe\n",
      "ead\n"
     ]
    }
   ],
   "source": [
    "s='coffee'\n",
    "t='bread'\n",
    "print(s+t)\n",
    "print(s[4]) # prints 4th character in the string\n",
    "print(s[1:5]) # prints 1st to 5-1=4th character in the string\n",
    "print(t[2:5]) # prints 2nd to 5-1=4th character in the string"
   ]
  },
  {
   "cell_type": "markdown",
   "id": "fcea08b0",
   "metadata": {},
   "source": [
    "Addition of two strings concatenate them, to add the nmbers stored as strings, we need to first convert it to integer/float."
   ]
  },
  {
   "cell_type": "code",
   "execution_count": 18,
   "id": "bf2beaa3",
   "metadata": {},
   "outputs": [
    {
     "name": "stdout",
     "output_type": "stream",
     "text": [
      "4\n",
      "7\n",
      "47\n",
      "11\n"
     ]
    }
   ],
   "source": [
    "k='0123456789'\n",
    "a1=k[4]\n",
    "b1=k[7]\n",
    "print(a1)\n",
    "print(b1)\n",
    "print(a1+b1)\n",
    "\n",
    "a2=int(k[4])\n",
    "b2=int(k[7])\n",
    "print(a2+b2)"
   ]
  },
  {
   "cell_type": "code",
   "execution_count": 19,
   "id": "3d21c8a5",
   "metadata": {},
   "outputs": [
    {
     "name": "stdout",
     "output_type": "stream",
     "text": [
      "goodgoodgoodgoodgood\n",
      "ggggg\n"
     ]
    }
   ],
   "source": [
    "m='good'\n",
    "print(m*5) # concatenated 5 times\n",
    "print(m[0]*5) #t his is repeatition is also known as replication"
   ]
  },
  {
   "cell_type": "code",
   "execution_count": 24,
   "id": "72c46e50",
   "metadata": {},
   "outputs": [
    {
     "name": "stdout",
     "output_type": "stream",
     "text": [
      "True\n",
      "False\n"
     ]
    }
   ],
   "source": [
    "x='India'\n",
    "print(x == 'India')\n",
    "print(x == 'india') # changing from uppercase to lowercase changes the string"
   ]
  },
  {
   "cell_type": "code",
   "execution_count": 25,
   "id": "0dfb0822",
   "metadata": {},
   "outputs": [
    {
     "name": "stdout",
     "output_type": "stream",
     "text": [
      "Comparing strings:\n",
      "False\n",
      "True\n",
      "True\n",
      "False\n"
     ]
    }
   ],
   "source": [
    "print('Comparing strings:')\n",
    "print('apple' > 'one') # when comparing strings, it goes letter by letter. 0th in apple (a) comes before 0th in one (o) in alphabets and so it is false\n",
    "print('four' < 'ten')\n",
    "print('ab'<'az')\n",
    "print('abcdef'< 'abcde')\n"
   ]
  },
  {
   "cell_type": "code",
   "execution_count": 26,
   "id": "81080000",
   "metadata": {},
   "outputs": [
    {
     "name": "stdout",
     "output_type": "stream",
     "text": [
      "Negative indexing:\n",
      "n\n",
      "o\n",
      "h\n",
      "t\n",
      "y\n",
      "p\n"
     ]
    }
   ],
   "source": [
    "print('Negative indexing:') # the order of indexing reverses\n",
    "z1= 'python'\n",
    "print(z1[-1])\n",
    "print(z1[-2])\n",
    "print(z1[-3])\n",
    "print(z1[-4])\n",
    "print(z1[-5])\n",
    "print(z1[-6])"
   ]
  },
  {
   "cell_type": "code",
   "execution_count": 27,
   "id": "b6ca0656",
   "metadata": {},
   "outputs": [
    {
     "name": "stdout",
     "output_type": "stream",
     "text": [
      "31\n"
     ]
    }
   ],
   "source": [
    "z2= 'fbywgmayugrywnrgcowmouywghyhgoi'\n",
    "\n",
    "# If we print(z2[100]) here it will show error as string index exceed range\n",
    "print(len(z2)) # len() shows the length of the string\n",
    "\n",
    "# here length will be shown as 31 but there is no z2[31] as indexes start from zero"
   ]
  }
 ],
 "metadata": {
  "kernelspec": {
   "display_name": "Python 3 (ipykernel)",
   "language": "python",
   "name": "python3"
  },
  "language_info": {
   "codemirror_mode": {
    "name": "ipython",
    "version": 3
   },
   "file_extension": ".py",
   "mimetype": "text/x-python",
   "name": "python",
   "nbconvert_exporter": "python",
   "pygments_lexer": "ipython3",
   "version": "3.9.13"
  }
 },
 "nbformat": 4,
 "nbformat_minor": 5
}
