{
 "cells": [
  {
   "cell_type": "markdown",
   "id": "0419e429",
   "metadata": {},
   "source": [
    "# Week 9"
   ]
  },
  {
   "cell_type": "markdown",
   "id": "8b5ed8f1",
   "metadata": {},
   "source": [
    "## Introduction to file handling\n",
    "Fast storage - RAM - internal memory (less space)  \n",
    "Slow storage - Hard disk - External memory (more space)"
   ]
  },
  {
   "cell_type": "code",
   "execution_count": null,
   "id": "2b081445",
   "metadata": {},
   "outputs": [],
   "source": [
    "#Reading and writing to a file\n",
    "f=open('mytext.txt','w')    # the task of opening a file with the name 'mytext.txt'\n",
    "                            # then 'w' stands for writing is assigned to variable f\n",
    "f.write('Soumya ') # this gets written on the file opened\n",
    "f.write('IITM ')\n",
    "f.close            # close the file\n",
    "\n",
    "x=open('mytext.txt','r') # open mytext.txt in reading mode\n",
    "s=x.read()\n",
    "print(s)           # type(s) will be str (string)\n",
    "x.close            # now x is closed, after x is closed, u cannot do anything like s=x.read\n",
    "\n",
    "k=open('newfile.txt','w')\n",
    "k.write('This is first line')\n",
    "k.write('\\n this is second line.')\n",
    "k.close"
   ]
  },
  {
   "cell_type": "markdown",
   "id": "2802e001",
   "metadata": {},
   "source": [
    "The argument mode points to a string beginning with one of the following\n",
    " sequences (Additional characters may follow these sequences.):\n",
    " \n",
    "| | |  \n",
    "| -------| :------|  \n",
    "| ``r`` |  Open text file for reading.<br> The stream is positioned at the beginning of the file.|  \n",
    "| ``r+``|  Open for reading and writing. <br> The stream is positioned at the beginning of the file.|  \n",
    "| ``w`` | Truncate file to zero length or create text file for writing.<br>The stream is positioned at the beginning of the file.|  \n",
    "| ``w+``|  Open for reading and writing. <br> The file is created if it does not exist, otherwise it is truncated. <br> The stream is positioned at the beginning of the file.|  \n",
    "| ``a`` |  Open for writing.  The file is created if it does not exist. <br> The stream is positioned at the end of the file. <br> Subsequent writes to the file will always end up at the then current end of file, <br> irrespective of any intervening fseek(3) or similar. (kinda appending to whatever is already present)|  \n",
    "| ``a+``|  Open for reading and writing.  The file is created if it does not exist. <br> The stream is positioned at the end of the file. <bR> Subsequent writes to the file will always end up at the then current end of file, irrespective of any intervening fseek(3) or similar.|"
   ]
  },
  {
   "cell_type": "markdown",
   "id": "09f45fc5",
   "metadata": {},
   "source": [
    "## Big text file handling"
   ]
  },
  {
   "cell_type": "code",
   "execution_count": null,
   "id": "a4da6dde",
   "metadata": {},
   "outputs": [],
   "source": [
    "f=open('sometext.txt','w')\n",
    "f.readline()         # this reads the first line in the file\n",
    "f.readline()         # this will read the second line\n",
    "                     # we keep on doing this, at the end when there are no more lines, f.readline() will return: ''\n",
    "\n",
    "# considering a telephone directory file, directory.txt , following code is written\n",
    "f=open('directory,txt','r')\n",
    "s='0'\n",
    "while(s!=''):\n",
    "    s=f.readline()\n",
    "    n=int(s)\n",
    "    if (s!=''):\n",
    "        flag=0\n",
    "        if (n==9020214197):\n",
    "            print(\"The number was found\")\n",
    "            flag=1\n",
    "            break\n",
    "if(flag==0):\n",
    "    print('The number was not found')"
   ]
  },
  {
   "cell_type": "markdown",
   "id": "6bb5ea98",
   "metadata": {},
   "source": [
    "Very big files- a tip: https://www.youtube.com/watch?v=NwFpo_KGvOA"
   ]
  },
  {
   "cell_type": "markdown",
   "id": "4283c451",
   "metadata": {},
   "source": [
    "## Ceasar Cipher\n",
    "- This program considers an imput file and encrypts it by using Caesar Cipher  \n",
    "- We shift the letters by three units such as: a becomes d, b becomes e...so on z becomes c"
   ]
  },
  {
   "cell_type": "code",
   "execution_count": null,
   "id": "ab5cf36e",
   "metadata": {},
   "outputs": [],
   "source": [
    "import string\n",
    "\n",
    "def create_caesar_dictionary():\n",
    "    l=string.ascii_lowercase\n",
    "    l=list(l)\n",
    "    d={}\n",
    "    for i in range(len(l)):\n",
    "        d[l[i]]=l[(i+3)%26]\n",
    "    return d\n",
    "d=create_caesar_dictionary()\n",
    "# Now suppose we have a file Sherlock.txt, we ecrypt it.\n",
    "\n",
    "f=open('sherlock.txt','r')\n",
    "g=open('encrypted_sherlock.txt','w')\n",
    "c=f.read(1)                # reads only one character\n",
    "while (c!=''):\n",
    "    g.write(d[c])\n",
    "    c=f.read(1)\n",
    "f.close\n",
    "g.close"
   ]
  },
  {
   "cell_type": "markdown",
   "id": "1eecd8aa",
   "metadata": {},
   "source": [
    "## Pandas\n",
    "Pandas: Pandas is an external library which provides high performance data analysis and manipulation tool"
   ]
  },
  {
   "cell_type": "code",
   "execution_count": null,
   "id": "b43d25aa",
   "metadata": {},
   "outputs": [],
   "source": [
    "#The following code is to find out max score from scores dataset\n",
    "\n",
    "f = open('scores.csv','r')\n",
    "scores = f.readlines()[1:]\n",
    "max=0\n",
    "for record in scores:\n",
    "    fields=record.split(',')\n",
    "    if int(fields[8])>max:\n",
    "        max=int(fields[8])\n",
    "print(max)"
   ]
  },
  {
   "cell_type": "code",
   "execution_count": null,
   "id": "456ceaa4",
   "metadata": {},
   "outputs": [],
   "source": [
    "# Doing the same thing using pandas\n",
    "\n",
    "import pandas as pd\n",
    "scores=pd.read_csv('scores.csv')\n",
    "print(scores['Total'].max())\n",
    "print(scores)               # pandas also adds index numebrs itself to the dataset\n",
    "print(scores.shape)         # will give (30,9) that is, 30 rows 9 columns\n",
    "print(scores.count())       # gives the no of inputs in each category\n",
    "print(scores['Total'].min())\n",
    "print(scores['Total'].max())\n",
    "print(scores['Total'].mean())\n",
    "print(scores['Total'].sum())\n",
    "print(scores['Total'].sort_values())\n",
    "print(scores['Total'].sort_values(ascending=False))\n",
    "type(scores)           # returns 'dataframes' dataframe is a 2d entity \n",
    "type(scores['Name'])   # return 'series': each column from dataframe is a series\n",
    "print(scores.head())   # this prints only first 5 rows from dataframe\n",
    "print(scores.tail())   # prints the last 5rows from dataframe\n",
    "print(scores[scores['Name']=='Nisha'])  # prints the row of Nisha\n",
    "print(scores[scores['Gender']=='M']['Total'].max)  # prints the max total of all male"
   ]
  },
  {
   "cell_type": "code",
   "execution_count": null,
   "id": "ab949a11",
   "metadata": {},
   "outputs": [],
   "source": [
    "# Suppose we want to categorise students based on marks and find number of student in each\n",
    "print(scores[scores['Physics']>85].shape[0])\n",
    "print(scores[scores['Physics'].between(70,85)].shape[0])\n",
    "print(scores[scores['Physics'].between(60,70)].shape[0])\n",
    "print(scores[scores['Physics']>60].shape[0])\n",
    "\n",
    "# Now suppose we categorise with two condition and find number\n",
    "print(scores[(scores['Gender']=='F') & (scores['Physics']>85)].shape[0])\n",
    "\n",
    "subject=['Mathematics', 'Physics','Chemistry']\n",
    "for sub in subject:\n",
    "    print('Ábove 85 in',sub)\n",
    "    print(scores[(scores['Gender']=='F') & scores[sub]>85].shape[0])\n",
    "    print(scores[(scores['Gender']=='M') & scores[sub]>85].shape[0])"
   ]
  },
  {
   "cell_type": "code",
   "execution_count": null,
   "id": "f3e31112",
   "metadata": {},
   "outputs": [],
   "source": [
    "# Prints a dictionary where key is a gender and its value is list listing the card number: \n",
    "print(scores.groupby('Gender').groups)\n",
    "for sub in subject:\n",
    "    print('Above average in', sub)\n",
    "    avg=scores[sub].mean\n",
    "    print(scores[scores[sub]> avg].groupby('Gender').groups)"
   ]
  }
 ],
 "metadata": {
  "kernelspec": {
   "display_name": "Python 3 (ipykernel)",
   "language": "python",
   "name": "python3"
  },
  "language_info": {
   "codemirror_mode": {
    "name": "ipython",
    "version": 3
   },
   "file_extension": ".py",
   "mimetype": "text/x-python",
   "name": "python",
   "nbconvert_exporter": "python",
   "pygments_lexer": "ipython3",
   "version": "3.9.13"
  }
 },
 "nbformat": 4,
 "nbformat_minor": 5
}
