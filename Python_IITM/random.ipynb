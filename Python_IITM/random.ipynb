{
 "cells": [
  {
   "cell_type": "markdown",
   "id": "0981679f",
   "metadata": {},
   "source": [
    "Code to test valid moves for knights and bishops in chess:"
   ]
  },
  {
   "cell_type": "code",
   "execution_count": 1,
   "id": "23a9a1a3",
   "metadata": {},
   "outputs": [
    {
     "name": "stdout",
     "output_type": "stream",
     "text": [
      "B2\n",
      "C4\n"
     ]
    }
   ],
   "source": [
    "ini = input('')\n",
    "fin = input('')\n",
    "p= 'ABCDEFGHIJKLMNOPQRSTUVWXYZ'\n",
    "n='12345678'"
   ]
  },
  {
   "cell_type": "code",
   "execution_count": 2,
   "id": "05eed067",
   "metadata": {},
   "outputs": [
    {
     "name": "stdout",
     "output_type": "stream",
     "text": [
      "YES\n"
     ]
    }
   ],
   "source": [
    "# FOR KNIGHTS\n",
    "\n",
    "if (p.index(ini[0])==((p.index(fin[0]))+2)%26) or (p.index(ini[0])==((p.index(fin[0]))-2)%26):\n",
    "    if (n.index(ini[1])==((n.index(fin[1])+1)%8)) or (n.index(ini[1])==((n.index(fin[1])-1)%8)):\n",
    "        print('YES')\n",
    "elif (p.index(ini[0])==((p.index(fin[0]))+1)%26) or (p.index(ini[0])==((p.index(fin[0]))-1)%26):\n",
    "    if (n.index(ini[1])==((n.index(fin[1])+2)%8)) or (n.index(ini[1])==((n.index(fin[1])-2)%8)):\n",
    "        print('YES')\n",
    "else:\n",
    "    print('NO')"
   ]
  },
  {
   "cell_type": "code",
   "execution_count": 3,
   "id": "a604f406",
   "metadata": {},
   "outputs": [
    {
     "name": "stdout",
     "output_type": "stream",
     "text": [
      "NO\n"
     ]
    }
   ],
   "source": [
    "# FOR BISHOPS\n",
    "\n",
    "flag= 'FALSE'\n",
    "for i in range(8):\n",
    "    if (p.index(ini[0])==((p.index(fin[0]))+i)%26) or (p.index(ini[0])==((p.index(fin[0]))-i)%26):\n",
    "        if (n.index(ini[1])==((n.index(fin[1])+i)%8)) or (n.index(ini[1])==((n.index(fin[1])-i)%8)):\n",
    "            flag='TRUE'\n",
    "if flag=='TRUE':\n",
    "    print('YES')\n",
    "else:\n",
    "    print('NO')"
   ]
  },
  {
   "cell_type": "markdown",
   "id": "2f1a6500",
   "metadata": {},
   "source": [
    "Testing if a given word string is anagram:"
   ]
  },
  {
   "cell_type": "code",
   "execution_count": 4,
   "id": "512842a1",
   "metadata": {},
   "outputs": [
    {
     "name": "stdout",
     "output_type": "stream",
     "text": [
      "False\n"
     ]
    }
   ],
   "source": [
    "X = \"anagram\"\n",
    "Y = \"nagaram\"\n",
    "\n",
    "xs = set(X)\n",
    "ys  =set(Y)\n",
    "\n",
    "\n",
    "def isAnagram(s,t):\n",
    "    if len(s) != len(t):\n",
    "        return False\n",
    "    else:\n",
    "        if (set(s) - set(t)) == 0 and (set(t) - set(s)) == 0 :\n",
    "            return True\n",
    "        else:\n",
    "            return False\n",
    "       \n",
    "print(isAnagram(X,Y))"
   ]
  }
 ],
 "metadata": {
  "kernelspec": {
   "display_name": "Python 3 (ipykernel)",
   "language": "python",
   "name": "python3"
  },
  "language_info": {
   "codemirror_mode": {
    "name": "ipython",
    "version": 3
   },
   "file_extension": ".py",
   "mimetype": "text/x-python",
   "name": "python",
   "nbconvert_exporter": "python",
   "pygments_lexer": "ipython3",
   "version": "3.9.13"
  }
 },
 "nbformat": 4,
 "nbformat_minor": 5
}
