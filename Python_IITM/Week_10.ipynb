{
 "cells": [
  {
   "cell_type": "markdown",
   "id": "d946d3c6",
   "metadata": {},
   "source": [
    "# Week 10\n",
    "\n",
    "**Object Oriented programming, introduction to numpy and matplotlib**"
   ]
  },
  {
   "cell_type": "markdown",
   "id": "1f722997",
   "metadata": {},
   "source": [
    "## Opbject Oriented Programming"
   ]
  },
  {
   "cell_type": "code",
   "execution_count": null,
   "id": "2f30b7ef",
   "metadata": {},
   "outputs": [],
   "source": [
    "#Introduction: (this is not the ideal way to write such code, we will learn it later)\n",
    "class Student:\n",
    "    roll_no = None\n",
    "    name = None\n",
    "\n",
    "s0 = Student()\n",
    "s0.roll_no = 0\n",
    "s0.name = 'Tobirama'\n",
    "print(s0.roll_no, s0.name)\n",
    "\n",
    "s1 = Student()\n",
    "print(s1.roll_no, s1.name)"
   ]
  },
  {
   "cell_type": "code",
   "execution_count": null,
   "id": "5f8004eb",
   "metadata": {},
   "outputs": [],
   "source": [
    "class Student: #Student is a class\n",
    "    count=0 #this is a  class attribute\n",
    "    def __init__(self, roll_no, name): #__init__ is a method. A method is effectively just another function\n",
    "        self.roll_no = roll_no #rollno and name are object attributes \n",
    "        self.name = name\n",
    "\n",
    "    def display(self): #display is another method\n",
    "        print(self.roll_no, self.name) \n",
    "    \n",
    "s0 = Student(0, 'Hashirama') \n",
    "s0.display\n",
    "\n",
    "s1 = Student(1, 'Tobirama')\n",
    "s1.display\n",
    "\n",
    "#when any function is inside a class it is called a method (recall string methods)"
   ]
  },
  {
   "cell_type": "code",
   "execution_count": null,
   "id": "65e33718",
   "metadata": {},
   "outputs": [],
   "source": [
    "#IITM lecture: https://www.youtube.com/watch?v=RrFvcDjJptY\n",
    "#YT (external): https://www.youtube.com/watch?v=OwAovKTBoNE \n",
    "\n",
    "class Animal:\n",
    "\n",
    "    def __init__(self, name, species):\n",
    "        print(\"THIS CAME FROM THE INIT METHOD\")\n",
    "        self.name = name\n",
    "        self.species = species\n",
    "\n",
    "    def getname(self):\n",
    "        return self.name\n",
    "\n",
    "    def getspecies(self):\n",
    "        return self.species\n",
    "    \n",
    "    def __del__(self):\n",
    "        print(\"THIS CAME FROM THE DEL METHOD\")\n",
    "\n",
    "class fourlegs:\n",
    "    def haslegs(self):\n",
    "        return 4\n",
    "    \n",
    "class Dog(Animal, fourlegs):\n",
    "    def __init__(self, name, isbig):\n",
    "        Animal.__init__(self, name, \"Dog\")\n",
    "        self.isbig=isbig\n",
    "    def getname(self):\n",
    "        return self.name, self.species, self.isbig\n",
    "# normally functions cant return more than 1 'thing'. This here outputs the three in a tuple"
   ]
  },
  {
   "cell_type": "markdown",
   "id": "7b06b668",
   "metadata": {},
   "source": [
    "## Numpy\n",
    "IITM lecture = https://www.youtube.com/watch?v=O0IrNk1qoUE\n",
    "\n",
    "- In a NumPy array all elements should be of same type.(Homogenous) whereas Python lists can beheterogenous\n",
    "- Dimension of array in NumPy array is same (inner list should be of same size)   \n",
    "- Python list memory allocation is non contigious and Numpy array is contigious\n",
    "- NumPy array requires less space than Python lists\n",
    "- NumPy arrays are faster than Python lists\n",
    "- Element wise operations is not possible in Python lists but possible in NumPy arrays\n",
    "- NumPy array can handle arithmetic operations whereas Python lists cannot"
   ]
  },
  {
   "cell_type": "code",
   "execution_count": null,
   "id": "8055a284",
   "metadata": {},
   "outputs": [],
   "source": [
    "import numpy as np\n",
    "a = np.array(42)\n",
    "b = np.array([1,2,3,4,5])\n",
    "c = np.array([[1,2,3],[4,5,6]])\n",
    "d = np.array([[[1,2,3],[4,5,6]],[[1,2,3],[4,5,6]]])\n",
    "\n",
    "print(a, a.ndim, '\\n')\n",
    "print(b, b.ndim, '\\n')\n",
    "print(c, c.ndim, '\\n')\n",
    "print(d, d.ndim, '\\n')"
   ]
  },
  {
   "cell_type": "markdown",
   "id": "c2218b59",
   "metadata": {},
   "source": [
    "## Matplotlib\n",
    "\n",
    "IITM lecture = https://www.youtube.com/watch?v=hk6NsCfvftY"
   ]
  },
  {
   "cell_type": "code",
   "execution_count": null,
   "id": "75d1b695",
   "metadata": {},
   "outputs": [],
   "source": [
    "import matplotlib.pyplot as plt\n",
    "import numpy as np\n",
    "\n",
    "x = np.array([5,7,8,7,2,17,2,9,4,11,12,9,6,4,5])\n",
    "y = np.array([99,86,87,88,111,86,103,87,94,78,77,85,86,87,79])\n",
    "ypie=np.array([35,25,25,15])\n",
    "my_labels = [\"Apples\", \"Bananas\", \"Cherries\", \"Dates\"]\n",
    "plt.scatter(x,y) #for diff coloured scattered, give another set of datapoints x&y and scatter again\n",
    "\n",
    "#plt.bar(x,y)\n",
    "\n",
    "#plt.barh(x,y)\n",
    "\n",
    "#plt.hist(x)\n",
    "\n",
    "#plt.pie(ypie, labels= my_labels, startangle=90)\n",
    "\n",
    "#plt.subplot(2,3,1) \n",
    "'''2=no. of rows in which we will divide the visualisation area,\n",
    "   3=no. of columns, 1= the position of the present plot'''\n",
    "\n",
    "plt.show()"
   ]
  }
 ],
 "metadata": {
  "kernelspec": {
   "display_name": "Python 3 (ipykernel)",
   "language": "python",
   "name": "python3"
  },
  "language_info": {
   "codemirror_mode": {
    "name": "ipython",
    "version": 3
   },
   "file_extension": ".py",
   "mimetype": "text/x-python",
   "name": "python",
   "nbconvert_exporter": "python",
   "pygments_lexer": "ipython3",
   "version": "3.9.13"
  }
 },
 "nbformat": 4,
 "nbformat_minor": 5
}
