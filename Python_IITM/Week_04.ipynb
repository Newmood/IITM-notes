{
 "cells": [
  {
   "cell_type": "markdown",
   "id": "dedb8d93",
   "metadata": {},
   "source": [
    "# Week 4"
   ]
  },
  {
   "cell_type": "markdown",
   "id": "d822a670",
   "metadata": {},
   "source": [
    "## Birthday Paradox"
   ]
  },
  {
   "cell_type": "code",
   "execution_count": 1,
   "id": "1ea0375e",
   "metadata": {},
   "outputs": [
    {
     "name": "stdout",
     "output_type": "stream",
     "text": [
      "[3, 31, 37, 80, 105, 109, 125, 135, 142, 152, 154, 189, 200, 219, 231, 239, 253, 257, 264, 269, 276, 288, 291, 301, 333, 339, 340, 342, 342, 353]\n",
      "Repeats 342 342\n"
     ]
    }
   ],
   "source": [
    "import random\n",
    "\n",
    "l=[]\n",
    "\n",
    "for i in range(30):\n",
    "    l.append(random.randint(1,365))\n",
    "l.sort()\n",
    "print(l)\n",
    "i=0\n",
    "flag=0 #denotes there is no repititions\n",
    "\n",
    "while (i < len(l)-1):\n",
    "    if (l[i] == l[i+1]):\n",
    "        print(\"Repeats\", l[i], l[i+1] )\n",
    "        flag = 1 \n",
    "    i=i+1\n",
    "if (flag == 0):\n",
    "    print('No repetitions')"
   ]
  },
  {
   "cell_type": "markdown",
   "id": "539d74bb",
   "metadata": {},
   "source": [
    "## The obvious sort"
   ]
  },
  {
   "cell_type": "code",
   "execution_count": 4,
   "id": "693527c6",
   "metadata": {},
   "outputs": [
    {
     "name": "stdout",
     "output_type": "stream",
     "text": [
      "[] [2, 4, 5, 5, 6, 7, 7, 8, 10, 12, 18, 42, 42, 45, 54, 214, 325]\n"
     ]
    }
   ],
   "source": [
    "l = [12,10,7,18,6,42,8,5,45,5,214,325,54,2,42,4,7]\n",
    "x=[]\n",
    "\n",
    "while (len(l)>0):\n",
    "    min=l[0]\n",
    "    for i in range(len(l)):\n",
    "        if (l[i]<min):\n",
    "            min=l[i]\n",
    "    x.append(min)\n",
    "    l.remove(min)\n",
    "print(l,x)"
   ]
  },
  {
   "cell_type": "markdown",
   "id": "f83cdb97",
   "metadata": {},
   "source": [
    "## Dot product\n",
    "write a piece of code to find dot product of two vectors"
   ]
  },
  {
   "cell_type": "code",
   "execution_count": 5,
   "id": "9e8ec74a",
   "metadata": {},
   "outputs": [
    {
     "name": "stdout",
     "output_type": "stream",
     "text": [
      "[0, 8, 6, 3, 2] [5, 1, 3, 4, 9] 56\n"
     ]
    }
   ],
   "source": [
    "import random\n",
    "\n",
    "x = random.sample(list(range(10)),5)\n",
    "y = random.sample(list(range(10)),5)\n",
    "\n",
    "sum = 0\n",
    "for i in range(len(x)):\n",
    "    sum = sum + x[i]*y[i]\n",
    "print(x, y, sum) #if lists are of different lengths, this wont work"
   ]
  },
  {
   "cell_type": "markdown",
   "id": "32e35c3d",
   "metadata": {},
   "source": [
    "## Matrix addition"
   ]
  },
  {
   "cell_type": "code",
   "execution_count": 6,
   "id": "cbec9bf5",
   "metadata": {},
   "outputs": [
    {
     "name": "stdout",
     "output_type": "stream",
     "text": [
      "[[1, 2, 3], [4, 5, 6], [7, 8, 9]]\n",
      "[[1, 2, 1], [4, 5, 6], [4, 3, 6]]\n",
      "[[2, 4, 4], [8, 10, 12], [11, 11, 15]]\n"
     ]
    }
   ],
   "source": [
    "dim =3\n",
    "\n",
    "r1= [1,2,3]\n",
    "r2= [4,5,6]\n",
    "r3= [7,8,9]\n",
    "\n",
    "s1= [1,2,1]\n",
    "s2= [4,5,6]\n",
    "s3= [4,3,6]\n",
    "\n",
    "A=[]\n",
    "A.append(r1)\n",
    "A.append(r2)\n",
    "A.append(r3)\n",
    "\n",
    "B=[]\n",
    "B.append(s1)\n",
    "B.append(s2)\n",
    "B.append(s3)\n",
    "\n",
    "C = [[0,0,0],[0,0,0],[0,0,0]]\n",
    "for i in range(dim):\n",
    "    for j in range(dim):\n",
    "        C[i][j] = A[i][j] + B[i][j]\n",
    "print(A)\n",
    "print(B)\n",
    "print(C)"
   ]
  },
  {
   "cell_type": "markdown",
   "id": "25c0d6fb",
   "metadata": {},
   "source": [
    "## Matrix Multiplication"
   ]
  },
  {
   "cell_type": "code",
   "execution_count": 7,
   "id": "c3ea64c2",
   "metadata": {},
   "outputs": [
    {
     "name": "stdout",
     "output_type": "stream",
     "text": [
      "[[6, 12, 18], [6, 12, 18], [6, 12, 18]]\n",
      "[[ 6 12 18]\n",
      " [ 6 12 18]\n",
      " [ 6 12 18]]\n"
     ]
    }
   ],
   "source": [
    "# using loops\n",
    "\n",
    "A=[[1,2,3],[1,2,3],[1,2,3]]\n",
    "B=[[1,2,3],[1,2,3],[1,2,3]]\n",
    "C=[[0,0,0],[0,0,0],[0,0,0]]\n",
    "dim=3\n",
    "\n",
    "for i in range(dim):\n",
    "    for j in range(dim):\n",
    "        for n in range(dim):\n",
    "            C[i][j] = C[i][j] + (A[i][n] * B[n][j])\n",
    "print(C)\n",
    "\n",
    "\n",
    "# using numpy matrix multiplication\n",
    "\n",
    "import numpy\n",
    "A=[[1,2,3],[1,2,3],[1,2,3]]\n",
    "B=[[1,2,3],[1,2,3],[1,2,3]]\n",
    "X = numpy.mat(A)\n",
    "Y = numpy.mat(B)\n",
    "print(X*Y)"
   ]
  },
  {
   "cell_type": "code",
   "execution_count": null,
   "id": "9c15fb68",
   "metadata": {},
   "outputs": [],
   "source": []
  }
 ],
 "metadata": {
  "kernelspec": {
   "display_name": "Python 3 (ipykernel)",
   "language": "python",
   "name": "python3"
  },
  "language_info": {
   "codemirror_mode": {
    "name": "ipython",
    "version": 3
   },
   "file_extension": ".py",
   "mimetype": "text/x-python",
   "name": "python",
   "nbconvert_exporter": "python",
   "pygments_lexer": "ipython3",
   "version": "3.9.13"
  }
 },
 "nbformat": 4,
 "nbformat_minor": 5
}
