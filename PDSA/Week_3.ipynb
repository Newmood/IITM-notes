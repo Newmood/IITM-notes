{
 "cells": [
  {
   "cell_type": "markdown",
   "id": "7e398186-ebd1-475e-8724-d56b7838d9e2",
   "metadata": {},
   "source": [
    "# Week 3"
   ]
  },
  {
   "cell_type": "markdown",
   "id": "bb7b3624-4f37-46ed-b94f-cc642681ab0e",
   "metadata": {},
   "source": [
    "## Quicksort\n",
    "\n",
    "- Idea: Divide and conquer without merging\n",
    "- In the main list `L` with median `m`, move `x<m` to left of `m` and `x>m` to right of `m`.\n",
    "- Do the same with left and right halves (recursion)\n",
    "- $T(n)$ is $O(n\\log n)$\n",
    "\n",
    "_How to find median?_  \n",
    "Can't find median without sorting, hence choose a \"pivot\" element. Do the above using this pivot.\n",
    " \n"
   ]
  },
  {
   "cell_type": "code",
   "execution_count": null,
   "id": "0a7dbbba-0c3b-4365-97dd-4b1c60d304fa",
   "metadata": {},
   "outputs": [],
   "source": [
    "def quicksort(L,l,r): # sort L[l:r]\n",
    "    if (r-l<=1):\n",
    "        return L\n",
    "    (pivot, lower, upper) = (L[l],l+1,l+1)\n",
    "    for i in range(l+1,r):\n",
    "        if L[i] > pivot: \n",
    "            # extend upper segment\n",
    "            upper = upper +1\n",
    "        else: \n",
    "            # exchange L[i] with start of upper segment\n",
    "            (L[i],L[lower] = (L[lower],L[i])\n",
    "            # shift both segments\n",
    "            (lower,upper)=(lower+1,upper+1)\n",
    "    # move pivot between lower and upper\n",
    "    (L[l],L[lower-1]) = (L[lower-1],L[l])\n",
    "    lower = lower-1\n",
    "    # recursive calls\n",
    "    quicksort(L,l,lower)\n",
    "    quicksort(L,lower+1,upper)\n",
    "    return(L)"
   ]
  },
  {
   "cell_type": "markdown",
   "id": "6eec4b1c-82b6-4a0e-b2a3-efd6cb194f44",
   "metadata": {},
   "source": [
    "- Partitioning with respect to a pivot takes $O(n)$.\n",
    "- Best case:\n",
    "    - If the pivot is median , $T(n)$ is $O(n \\log n)$\n",
    "- Worst case:\n",
    "    - If the pivot is maximum or minimum/array is already sorted, $T(n)$ is $O(n^2)$\n",
    "- Average case/ expected running time is $O(n\\log n)$ "
   ]
  },
  {
   "cell_type": "code",
   "execution_count": null,
   "id": "4f40a7f3-b573-4712-8c96-dbfcab73d754",
   "metadata": {},
   "outputs": [],
   "source": []
  }
 ],
 "metadata": {
  "kernelspec": {
   "display_name": "Python 3 (ipykernel)",
   "language": "python",
   "name": "python3"
  },
  "language_info": {
   "codemirror_mode": {
    "name": "ipython",
    "version": 3
   },
   "file_extension": ".py",
   "mimetype": "text/x-python",
   "name": "python",
   "nbconvert_exporter": "python",
   "pygments_lexer": "ipython3",
   "version": "3.12.2"
  }
 },
 "nbformat": 4,
 "nbformat_minor": 5
}
