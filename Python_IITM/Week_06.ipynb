{
 "cells": [
  {
   "cell_type": "markdown",
   "id": "ddf1a4ac",
   "metadata": {},
   "source": [
    "# WEEK 6"
   ]
  },
  {
   "cell_type": "markdown",
   "id": "efd52094",
   "metadata": {},
   "source": [
    "### LIST And SETS"
   ]
  },
  {
   "cell_type": "code",
   "execution_count": 1,
   "id": "234151f8",
   "metadata": {},
   "outputs": [
    {
     "name": "stdout",
     "output_type": "stream",
     "text": [
      "<class 'list'>\n",
      "<class 'set'>\n",
      "{1, 2, 3, 4, 5, 6, 7, 56}\n"
     ]
    }
   ],
   "source": [
    "x=[1,2,3,4,5,6,7,1]\n",
    "y={1,2,3,4,5,6,7,1}\n",
    "print(type(x))\n",
    "print(type(y))\n",
    "\n",
    "y.add(56) #adding elements to sets\n",
    "print(y)"
   ]
  },
  {
   "cell_type": "markdown",
   "id": "1295ac28",
   "metadata": {},
   "source": [
    "- `in` operator works in both sets and lists\n",
    "- size of set is greater than list, verified by importing `sys` and executing `sys.getsizeof(s)` and `sys.getsizeof(x)` where `s` is a set and `x` is a list.  \n",
    "- Set is not subscriptable/indexed"
   ]
  },
  {
   "cell_type": "markdown",
   "id": "5f2bc7b0",
   "metadata": {},
   "source": [
    "### DICTIONARY"
   ]
  },
  {
   "cell_type": "code",
   "execution_count": 2,
   "id": "b32b5071",
   "metadata": {},
   "outputs": [
    {
     "name": "stdout",
     "output_type": "stream",
     "text": [
      "{'unpleasant', 'After', 'headmaster', 'building', 'into', 'in', 'specially', 'long', 'morning', 'to', 'Vedanayagam', 'the', 'work', 'shuddered', 'difficult', 'reluctant', 'Saturday', 'It', 'freedom', 'and', 'discipline', 'he', 'yellow', 'class', 'with', 'very', 'it', 'fire-eyed', 'He', 'Sunday', 'of', 'thought', 'school', 'cane', 'open', 'Swaminathan', 'get', 'thin', 'was', 'his', 'at', 'eyes', 'calendar', 'considered', 'mood', 'teacher', 'Monday', 'delicious', 'dismal'}\n",
      "{'unpleasant': 1, 'After': 1, 'headmaster': 1, 'building': 1, 'into': 1, 'in': 1, 'specially': 1, 'long': 1, 'morning': 1, 'to': 2, 'Vedanayagam': 1, 'the': 6, 'work': 1, 'shuddered': 1, 'difficult': 1, 'reluctant': 1, 'Saturday': 1, 'It': 1, 'freedom': 1, 'and': 3, 'discipline': 1, 'he': 1, 'yellow': 1, 'class': 1, 'with': 1, 'very': 1, 'it': 1, 'fire-eyed': 1, 'He': 1, 'Sunday': 1, 'of': 3, 'thought': 1, 'school': 1, 'cane': 1, 'open': 1, 'Swaminathan': 1, 'get': 1, 'thin': 1, 'was': 3, 'his': 3, 'at': 1, 'eyes': 1, 'calendar': 1, 'considered': 1, 'mood': 1, 'teacher': 1, 'Monday': 3, 'delicious': 1, 'dismal': 1}\n",
      "6\n"
     ]
    }
   ],
   "source": [
    "malgudi=['It', 'was', 'Monday', 'morning', 'Swaminathan', 'was', 'reluctant',\n",
    "         'to', 'open', 'his', 'eyes', 'he', 'considered', 'Monday', 'specially',\n",
    "         'unpleasant', 'in', 'the', 'calendar', 'After', 'the', 'delicious',\n",
    "         'freedom', 'of', 'Saturday', 'and', 'Sunday', 'it', 'was', 'difficult',\n",
    "         'to', 'get', 'into', 'the', 'Monday', 'mood', 'of', 'work', 'and', 'discipline',\n",
    "         'He', 'shuddered', 'at', 'the', 'very', 'thought', 'of', 'school', 'the', 'dismal',\n",
    "         'yellow', 'building', 'the', 'fire-eyed', 'Vedanayagam', 'his', 'class',\n",
    "         'teacher', 'and', 'headmaster', 'with', 'his', 'thin', 'long', 'cane']\n",
    "\n",
    "s=set(malgudi) # created a set from the list\n",
    "d={}\n",
    "max=0\n",
    "\n",
    "for x in s:\n",
    "    d[x]=0\n",
    "\n",
    "for x in malgudi:\n",
    "    d[x] += 1\n",
    "\n",
    "for x in d:\n",
    "    if (d[x])>max:\n",
    "        max=d[x]\n",
    "\n",
    "print(s)\n",
    "print(d)\n",
    "print(max)"
   ]
  },
  {
   "cell_type": "markdown",
   "id": "b50af698",
   "metadata": {},
   "source": [
    "### TUPLES"
   ]
  },
  {
   "cell_type": "markdown",
   "id": "f5dce9ac",
   "metadata": {},
   "source": [
    "- with tuples we can do only two things, t.index and t.count\n",
    "- list is flexible but tuple isn't. but then why do we use tuple? Somtimes we want to fix things, we dont want them to change. in tuples we can't change elements."
   ]
  },
  {
   "cell_type": "code",
   "execution_count": 10,
   "id": "6baf2ede",
   "metadata": {},
   "outputs": [
    {
     "name": "stdout",
     "output_type": "stream",
     "text": [
      "2 3\n",
      "abcdefghijklmnopqrstuvwxyzABCDEFGHIJKLMNOPQRSTUVWXYZ\n"
     ]
    }
   ],
   "source": [
    "t=(2,7,18,64,108,101,65,108,108)\n",
    "print(t.index(18),t.count(108))\n",
    "\n",
    "import string\n",
    "s=string.ascii_letters\n",
    "print(s)"
   ]
  },
  {
   "cell_type": "markdown",
   "id": "cbe5a233",
   "metadata": {},
   "source": [
    "## More on Dictionary\n",
    "\n",
    "MORE ON DICTIONARY (yt link: https://www.youtube.com/watch?v=gTpPI3SMnAA)\n",
    "\n",
    "`d={'key':'value'}`\n",
    "- key-value pair. we can access a value by identifying its key. keys are unique. value can be same for two or more different keys.\n",
    "- integers,float,boolean,string can be used as dictionary keys.\n",
    "- lists and dictionaries cant be used keys because they are mutable\n",
    "- hashable tuples can be dictionary keys. a dictionary key has to be immutable and hashable"
   ]
  },
  {
   "cell_type": "code",
   "execution_count": 12,
   "id": "a0a4b256",
   "metadata": {},
   "outputs": [
    {
     "name": "stdout",
     "output_type": "stream",
     "text": [
      "{0: 0, 1: 1, 2: 4, 3: 9, 4: 16}\n",
      "0 0\n",
      "1 1\n",
      "2 4\n",
      "3 9\n",
      "4 16\n",
      "5\n",
      "dict_keys([0, 1, 2, 3, 4])\n",
      "dict_values([0, 1, 4, 9, 16])\n",
      "dict_items([(0, 0), (1, 1), (2, 4), (3, 9), (4, 16)])\n"
     ]
    }
   ],
   "source": [
    "d1={0:0,1:1,2:4,3:9,4:16}\n",
    "print(d1)\n",
    "for key in d1:\n",
    "    print(key,d1[key])\n",
    "print(len(d1))\n",
    "#dictionary methods\n",
    "\n",
    "print(d1.keys())\n",
    "print(d1.values())\n",
    "print(d1.items()) # this is another example where python internally uses tuples"
   ]
  },
  {
   "cell_type": "markdown",
   "id": "777ca97e",
   "metadata": {},
   "source": [
    "## More on Tuples\n",
    "\n",
    "MORE ON TUPLES (yt link: https://www.youtube.com/watch?v=V7r6DB3a6_o)"
   ]
  },
  {
   "cell_type": "code",
   "execution_count": 14,
   "id": "84115208",
   "metadata": {},
   "outputs": [
    {
     "name": "stdout",
     "output_type": "stream",
     "text": [
      "(1, 2, 3) <class 'tuple'>\n",
      "1 2 3\n"
     ]
    }
   ],
   "source": [
    "t=1,2,3\n",
    "print(t,type(t))\n",
    "x,y,z=t\n",
    "print(x,y,z)"
   ]
  },
  {
   "cell_type": "code",
   "execution_count": 15,
   "id": "c9fb6451",
   "metadata": {},
   "outputs": [
    {
     "name": "stdout",
     "output_type": "stream",
     "text": [
      "10 5\n"
     ]
    }
   ],
   "source": [
    "m=5\n",
    "n=10\n",
    "m,n = n,m\n",
    "print(m,n)"
   ]
  },
  {
   "cell_type": "code",
   "execution_count": 19,
   "id": "1e1b7134",
   "metadata": {},
   "outputs": [
    {
     "name": "stdout",
     "output_type": "stream",
     "text": [
      "[10] <class 'list'> \n",
      " 10 <class 'int'> \n",
      " (10,) <class 'tuple'>\n"
     ]
    }
   ],
   "source": [
    "l1=[10]\n",
    "t1=(10) #when we create a tuple with one element, python considers\n",
    "        # it an integer to get a tupple we have to do it as t1=(10,)\n",
    "t2 = (10,)\n",
    "print(l1,type(l1),'\\n',t1,type(t1),'\\n',t2,type(t2))"
   ]
  },
  {
   "cell_type": "code",
   "execution_count": 20,
   "id": "a6ef9efd",
   "metadata": {},
   "outputs": [
    {
     "name": "stdout",
     "output_type": "stream",
     "text": [
      "([1, 2], ['a', 'b'])\n",
      "([10, 2], ['a', 'b'])\n"
     ]
    }
   ],
   "source": [
    "t3=([1,2],['a', 'b'])\n",
    "print(t3)\n",
    "t3[0][0]=10 # tuple immutability doesnt affect the lists inside.\n",
    "print(t3)"
   ]
  },
  {
   "cell_type": "markdown",
   "id": "5e602e05",
   "metadata": {},
   "source": [
    "If the elements inside a tuple are also immutable then the tuples is hashable. if they are mutable then tuple is non hashable"
   ]
  },
  {
   "cell_type": "markdown",
   "id": "6943b8fc",
   "metadata": {},
   "source": [
    "## More on Sets\n",
    "\n",
    "MORE ON SETS (yt link:https://www.youtube.com/watch?v=qoV4tdDD8zE)\n",
    "\n",
    "- set does not allow duplicate values\n",
    "- set elements are not subscriptable, they are just collections, dont have a notion of order.\n",
    "- set is itself mutable, but its elements have to be immutable and hashable"
   ]
  },
  {
   "cell_type": "code",
   "execution_count": 21,
   "id": "96efda8d",
   "metadata": {},
   "outputs": [
    {
     "name": "stdout",
     "output_type": "stream",
     "text": [
      "{1, 2, 3, 4, 5}\n"
     ]
    }
   ],
   "source": [
    "st = {1,2,3,4,5}\n",
    "\n",
    "s1={1,2,3,4,3,4,1,5}\n",
    "print(s1) "
   ]
  },
  {
   "cell_type": "markdown",
   "id": "2328bf8f",
   "metadata": {},
   "source": [
    "Set methods:"
   ]
  },
  {
   "cell_type": "code",
   "execution_count": 22,
   "id": "166ba2b3",
   "metadata": {},
   "outputs": [
    {
     "name": "stdout",
     "output_type": "stream",
     "text": [
      "True\n"
     ]
    }
   ],
   "source": [
    "A1={1,3,5}\n",
    "B1={1,2,3,4,5}\n",
    "print(A1.issubset(B1))"
   ]
  },
  {
   "cell_type": "code",
   "execution_count": 23,
   "id": "a60d30d6",
   "metadata": {},
   "outputs": [
    {
     "name": "stdout",
     "output_type": "stream",
     "text": [
      "{1, 2, 3, 4, 5} {1, 2, 3, 4, 5}\n"
     ]
    }
   ],
   "source": [
    "A2={1,2,3}\n",
    "B2={3,4,5}\n",
    "C1=A2.union(B2)\n",
    "C2= A2 | B2\n",
    "print(C1,C2)"
   ]
  },
  {
   "cell_type": "code",
   "execution_count": 24,
   "id": "d4d17287",
   "metadata": {},
   "outputs": [
    {
     "name": "stdout",
     "output_type": "stream",
     "text": [
      "{3} {3}\n"
     ]
    }
   ],
   "source": [
    "A3={1,2,3}\n",
    "B3={3,4,5}\n",
    "C3=A2.intersection(B2)\n",
    "C4= A2 & B2\n",
    "print(C3,C4)"
   ]
  },
  {
   "cell_type": "markdown",
   "id": "97f7971c",
   "metadata": {},
   "source": [
    "## More on Lists\n",
    "\n",
    "- MORE oN LIST (yt link: https://www.youtube.com/watch?v=aaaENpVGS5U)"
   ]
  },
  {
   "cell_type": "code",
   "execution_count": 26,
   "id": "205b9be4",
   "metadata": {},
   "outputs": [
    {
     "name": "stdout",
     "output_type": "stream",
     "text": [
      "[1, 2, 3, 10, 20, 30] [10, 20, 30, 1, 2, 3]\n",
      "[0, 0, 0, 0, 0, 0, 0, 0, 0, 0]\n"
     ]
    }
   ],
   "source": [
    "l1=[1,2,3]\n",
    "l2=[10,20,30]\n",
    "l12= l1 + l2\n",
    "l21= l2 + l1\n",
    "print(l12,l21)\n",
    "\n",
    "l3=[0]*10\n",
    "print(l3)"
   ]
  },
  {
   "cell_type": "code",
   "execution_count": 27,
   "id": "eecc3335",
   "metadata": {},
   "outputs": [
    {
     "name": "stdout",
     "output_type": "stream",
     "text": [
      "[[0, 0, 0], [0, 0, 0], [0, 0, 0]]\n",
      "True\n",
      "False\n"
     ]
    }
   ],
   "source": [
    "l4=[[0,0,0]]*3\n",
    "print(l4)\n",
    "\n",
    "l5=[1,2,3]\n",
    "l6=[1,3,2]\n",
    "print(l1==l5)\n",
    "print(l1==l6)"
   ]
  },
  {
   "cell_type": "markdown",
   "id": "5fce2cda",
   "metadata": {},
   "source": [
    "Comparing lists: lists are compared index wise, if the element in a particular index of a list is greater(?) than the other then it returns true\n",
    "\n",
    "Lists are mutable in python (strings also have indexes but we acnt modify those elements, strings arent mutable)"
   ]
  },
  {
   "cell_type": "code",
   "execution_count": 30,
   "id": "c1c3d7dc",
   "metadata": {},
   "outputs": [
    {
     "name": "stdout",
     "output_type": "stream",
     "text": [
      "comparing lists:\n",
      "[1,2]<[1,2,3]: True\n",
      "[1, 2, 6]\n"
     ]
    }
   ],
   "source": [
    "print('comparing lists:')\n",
    "print(\"[1,2]<[1,2,3]:\",[1,2]<[1,2,3])\n",
    "\n",
    "\n",
    "l7=[1,2,3]\n",
    "l7[2]=6\n",
    "print(l7)"
   ]
  },
  {
   "cell_type": "code",
   "execution_count": 31,
   "id": "3c50d011",
   "metadata": {},
   "outputs": [
    {
     "name": "stdout",
     "output_type": "stream",
     "text": [
      "10 5\n",
      "Now doing the same with lists:\n",
      "[100, 2, 3] [100, 2, 3]\n"
     ]
    }
   ],
   "source": [
    "x=5\n",
    "y=x\n",
    "x=10\n",
    "print(x,y)\n",
    "\n",
    "print('Now doing the same with lists:')\n",
    "l8=[1,2,3]\n",
    "l9=l8\n",
    "l8[0]=100\n",
    "print(l8,l9)"
   ]
  },
  {
   "cell_type": "code",
   "execution_count": 32,
   "id": "2bbf5a8d",
   "metadata": {},
   "outputs": [
    {
     "name": "stdout",
     "output_type": "stream",
     "text": [
      "False\n",
      "False\n",
      "False\n",
      "True\n"
     ]
    }
   ],
   "source": [
    "l10=[1,2,3]\n",
    "l11= list(l10)\n",
    "l12=l1[:]\n",
    "l13=l10.copy()\n",
    "l14=l10\n",
    "print(l11 is l10)\n",
    "print(l12 is l10)\n",
    "print(l13 is l10) #false ones have diff memory location so they dont get changed as we change l10\n",
    "print(l14 is l10) #these two have same memory location"
   ]
  },
  {
   "cell_type": "code",
   "execution_count": 33,
   "id": "b8d8eea5",
   "metadata": {},
   "outputs": [
    {
     "name": "stdout",
     "output_type": "stream",
     "text": [
      "[5]\n",
      "[5, 1]\n",
      "[5, 1]\n",
      "[5, 1]\n"
     ]
    }
   ],
   "source": [
    "def add(x):\n",
    "    x.append(1)\n",
    "    return x\n",
    "x=[5]\n",
    "print(x)\n",
    "print(add(x))\n",
    "\n",
    "def add(k):\n",
    "    k.append(1)\n",
    "    return k\n",
    "k=[5]\n",
    "print(add(k))\n",
    "print(k) "
   ]
  },
  {
   "cell_type": "markdown",
   "id": "097c3804",
   "metadata": {},
   "source": [
    "In case of integers variables only pass the value they are containing, in case lists, the list itself is passed"
   ]
  },
  {
   "cell_type": "code",
   "execution_count": 36,
   "id": "a7603bb4",
   "metadata": {},
   "outputs": [
    {
     "name": "stdout",
     "output_type": "stream",
     "text": [
      "List methods:\n",
      "[1, 2, 9, 3, 4]\n",
      "[9, 3, 4]\n",
      "[1, 1, 2, 5, 7, 54, 242]\n",
      "[242, 54, 7, 5, 2, 1, 1]\n"
     ]
    }
   ],
   "source": [
    "print('List methods:')\n",
    "l15=[1,2,3]\n",
    "l15.append(4)\n",
    "l15.insert(2,9) # insert 9 after 2nd index\n",
    "print(l15)\n",
    "\n",
    "l15.remove(2) # remove 2 from the list once\n",
    "l15.pop(0) # pop: kick out the element in the 0th index \n",
    "print(l15)\n",
    "\n",
    "l16=[1,242,54,2,1,7,5]\n",
    "l16.sort()\n",
    "print(l16)\n",
    "\n",
    "l16.sort(reverse=True)\n",
    "print(l16)"
   ]
  },
  {
   "cell_type": "code",
   "execution_count": null,
   "id": "b6e434b5",
   "metadata": {},
   "outputs": [],
   "source": []
  }
 ],
 "metadata": {
  "kernelspec": {
   "display_name": "Python 3 (ipykernel)",
   "language": "python",
   "name": "python3"
  },
  "language_info": {
   "codemirror_mode": {
    "name": "ipython",
    "version": 3
   },
   "file_extension": ".py",
   "mimetype": "text/x-python",
   "name": "python",
   "nbconvert_exporter": "python",
   "pygments_lexer": "ipython3",
   "version": "3.9.13"
  }
 },
 "nbformat": 4,
 "nbformat_minor": 5
}
