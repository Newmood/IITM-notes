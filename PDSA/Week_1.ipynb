{
 "cells": [
  {
   "cell_type": "markdown",
   "id": "5740d04d",
   "metadata": {},
   "source": [
    "# Week 1\n",
    "\n",
    "Python performs $10^7$ operations in a second."
   ]
  },
  {
   "cell_type": "markdown",
   "id": "5d52543a",
   "metadata": {},
   "source": [
    "## Computing Prime"
   ]
  },
  {
   "cell_type": "markdown",
   "id": "91b04ba4",
   "metadata": {},
   "source": [
    "Below is an algorithm to find whether a given numbers is prime or not."
   ]
  },
  {
   "cell_type": "code",
   "execution_count": null,
   "id": "6aaa4bc5",
   "metadata": {},
   "outputs": [],
   "source": [
    "import math\n",
    "\n",
    "def is_Prime(m):\n",
    "    (result,i)=(True,2)\n",
    "    while (result and (i<=math.sqrt(m))):\n",
    "        if (m%i) ==0:\n",
    "            result = False\n",
    "        i=i+1\n",
    "    return result"
   ]
  },
  {
   "cell_type": "markdown",
   "id": "c91b92b5",
   "metadata": {},
   "source": [
    "## Computing greatest common divisor"
   ]
  },
  {
   "cell_type": "markdown",
   "id": "cdc8778e",
   "metadata": {},
   "source": [
    "### Euclid's algorithm\n",
    "Consider two numbers $m$ and $n$, Suppose $n$ does not divide $m$. Then we can write $m=qn+r$.  \n",
    "Suppose $d$ is divides both $m$ and $n$,\n",
    "then, \n",
    "$$\\begin{align}\n",
    "m=qn+r\\\\\n",
    "ad = q(bd) + r\n",
    "\\end{align}$$\n",
    "\n",
    "Hence $r$ must be divisble by $d$. So we can conclude that gcd of $(m,n)$ also divides $m\\mod n$."
   ]
  },
  {
   "cell_type": "code",
   "execution_count": null,
   "id": "789c090a",
   "metadata": {},
   "outputs": [],
   "source": [
    "def gcd(m,n):\n",
    "    (a,b) = (max(m,n),min(m,n))\n",
    "    if a%b == 0:\n",
    "        return b\n",
    "    else:\n",
    "        return gcd(b,a%b)"
   ]
  },
  {
   "cell_type": "markdown",
   "id": "46d634aa",
   "metadata": {},
   "source": [
    "The above code take time proportional to number of digits in ``max(m,n)``"
   ]
  },
  {
   "cell_type": "markdown",
   "id": "2bbe30d3",
   "metadata": {},
   "source": [
    "# Assignments"
   ]
  },
  {
   "cell_type": "markdown",
   "id": "56590d11",
   "metadata": {},
   "source": [
    "## Twin primes"
   ]
  },
  {
   "cell_type": "code",
   "execution_count": 12,
   "id": "31ede72c",
   "metadata": {},
   "outputs": [
    {
     "name": "stdout",
     "output_type": "stream",
     "text": [
      "0\n",
      "19\n",
      "[(3, 5), (5, 7), (11, 13), (17, 19)]\n"
     ]
    }
   ],
   "source": [
    "import math\n",
    "\n",
    "def is_Prime(m):\n",
    "    (result,i)=(True,2)\n",
    "    while (result and (i<=math.sqrt(m))):\n",
    "        if (m%i) ==0:\n",
    "            result = False\n",
    "        i=i+1\n",
    "    return result\n",
    "        \n",
    "            \n",
    "def Twin_Primes(n,m):\n",
    "    L=[]\n",
    "    for i in range(m+1):\n",
    "        if is_Prime(i):\n",
    "            L.append(i)\n",
    "    final=[]\n",
    "    if n<=1:\n",
    "        n=2\n",
    "    for j in range(n,m+1):\n",
    "        if (j in L) and (j+2 in L):\n",
    "            final.append((j,j+2))\n",
    "    return final\n",
    "    \n",
    "n=int(input())\n",
    "m=int(input())\n",
    "print(sorted(Twin_Primes(n, m)))"
   ]
  },
  {
   "cell_type": "markdown",
   "id": "2e7276dc",
   "metadata": {},
   "source": [
    "## Triangle"
   ]
  },
  {
   "cell_type": "code",
   "execution_count": 39,
   "id": "8dd3a69c",
   "metadata": {},
   "outputs": [],
   "source": [
    "class Triangle():\n",
    "    def __init__(self,a,b,c):\n",
    "        self.a = float(a)\n",
    "        self.b = float(b)\n",
    "        self.c = float(c)\n",
    "    def Is_valid(self):\n",
    "        if (self.a+self.b>self.c) and (self.b+self.c>self.a) and (self.c+self.a>self.b):\n",
    "            return \"Valid\"\n",
    "        else:\n",
    "            return \"Invalid\"\n",
    "\n",
    "    def Side_Classification(self):\n",
    "        if self.Is_valid() == \"Invalid\":\n",
    "            return \"Invalid\"\n",
    "        elif self.a==self.b and self.b==self.c:\n",
    "            return \"Equilateral\"\n",
    "        elif self.a==self.b or self.b==self.c or self.c==self.a:\n",
    "            return \"Isosceles\" \n",
    "        else:\n",
    "            return \"Scalene\"\n",
    "    \n",
    "    def Angle_Classification(self):\n",
    "        if self.Is_valid() == \"Invalid\":\n",
    "            return \"Invalid\"\n",
    "        else:\n",
    "            h = max(self.a,self.b,self.c)\n",
    "            l = min(self.a,self.b,self.c)\n",
    "            m = (self.a+self.b+self.c)-h-l\n",
    "            \n",
    "            if (l**2+m**2 > h**2):\n",
    "                return \"Acute\"\n",
    "            elif (l**2+m**2 == h**2):\n",
    "                return \"Right\"\n",
    "            elif (l**2+m**2 < h**2):\n",
    "                return \"Obtuse\"\n",
    "    def Area(self):\n",
    "        if self.Is_valid() == \"Invalid\":\n",
    "            return \"Invalid\"\n",
    "        else:\n",
    "            s = (self.a+self.b+self.c)/2\n",
    "            Area = (s*(s-self.a)*(s-self.b)*(s-self.c))**0.5\n",
    "            return Area"
   ]
  },
  {
   "cell_type": "code",
   "execution_count": 40,
   "id": "7e5ff173",
   "metadata": {},
   "outputs": [
    {
     "name": "stdout",
     "output_type": "stream",
     "text": [
      "2\n",
      "3\n",
      "4\n",
      "Valid\n",
      "Scalene\n",
      "Obtuse\n",
      "2.9047375096555625\n"
     ]
    }
   ],
   "source": [
    "a=int(input())\n",
    "b=int(input())\n",
    "c=int(input())\n",
    "T=Triangle(a,b,c)\n",
    "print(T.Is_valid())\n",
    "print(T.Side_Classification())\n",
    "print(T.Angle_Classification())\n",
    "print(T.Area())"
   ]
  },
  {
   "cell_type": "code",
   "execution_count": 47,
   "id": "ba152e1b",
   "metadata": {},
   "outputs": [],
   "source": [
    "L = [1,5,6,7,83,4,67,97]\n",
    "L = sorted(L)"
   ]
  },
  {
   "cell_type": "markdown",
   "id": "861abbf4",
   "metadata": {},
   "source": [
    "## Min difference"
   ]
  },
  {
   "cell_type": "code",
   "execution_count": 57,
   "id": "6a85259d",
   "metadata": {},
   "outputs": [],
   "source": [
    "def find_Min_Difference(L,P):\n",
    "    Ls = sorted(L)\n",
    "    diff_list = []\n",
    "    for i in range(len(Ls)):\n",
    "        if i+P<=len(Ls):\n",
    "            diff_list.append(Ls[i+P-1]-Ls[i])\n",
    "    return min(diff_list)"
   ]
  },
  {
   "cell_type": "code",
   "execution_count": 58,
   "id": "e95210a0",
   "metadata": {},
   "outputs": [
    {
     "data": {
      "text/plain": [
       "3"
      ]
     },
     "execution_count": 58,
     "metadata": {},
     "output_type": "execute_result"
    }
   ],
   "source": [
    "L = [1,5,6,7,83,4,67,97]\n",
    "\n",
    "find_Min_Difference(L,4)"
   ]
  },
  {
   "cell_type": "code",
   "execution_count": 59,
   "id": "d6f86fd8",
   "metadata": {},
   "outputs": [
    {
     "data": {
      "text/plain": [
       "[1, 4, 5, 6, 7, 67, 83, 97]"
      ]
     },
     "execution_count": 59,
     "metadata": {},
     "output_type": "execute_result"
    }
   ],
   "source": [
    "sorted(L)"
   ]
  },
  {
   "cell_type": "markdown",
   "id": "6049671b",
   "metadata": {},
   "source": [
    "## Goldbach conjecture"
   ]
  },
  {
   "cell_type": "code",
   "execution_count": 81,
   "id": "ac1cc851",
   "metadata": {},
   "outputs": [
    {
     "name": "stdout",
     "output_type": "stream",
     "text": [
      "100\n",
      "[(3, 97), (11, 89), (17, 83), (29, 71), (41, 59)]\n"
     ]
    }
   ],
   "source": [
    "def is_Prime(n):\n",
    "    import math\n",
    "    (result , i) = (True , 2)\n",
    "    while (result and i<= math.sqrt(n)):\n",
    "        if n%i == 0:\n",
    "            result = False\n",
    "        i=i+1\n",
    "    return result\n",
    "def Prime_list(n):\n",
    "    L = []\n",
    "    for i in range(2,n+1):\n",
    "        if is_Prime(i):\n",
    "            L.append(i)\n",
    "    return L\n",
    "\n",
    "def Goldbach(n):\n",
    "    GL =[]\n",
    "    L = Prime_list(n)\n",
    "    \n",
    "    if (len(L)%2 == 0):\n",
    "        half_L = int(len(L)/2)\n",
    "    else:\n",
    "        half_L = int((len(L)+1)/2)\n",
    "        \n",
    "    for i in L[:half_L+1]:\n",
    "        for j in L[half_L:]:\n",
    "            if i+j == n:\n",
    "                GL.append((i,j))\n",
    "    return GL\n",
    "# -------------------PASSED 1/5 -----------------------\n",
    "\n",
    "n=int(input())\n",
    "print(sorted(Goldbach(n)))"
   ]
  },
  {
   "cell_type": "code",
   "execution_count": 89,
   "id": "de7eca39",
   "metadata": {},
   "outputs": [
    {
     "name": "stdout",
     "output_type": "stream",
     "text": [
      "26\n",
      "[(3, 23), (7, 19), (13, 13)]\n"
     ]
    }
   ],
   "source": [
    "def is_Prime(n):\n",
    "    import math\n",
    "    (result , i) = (True , 2)\n",
    "    while (result and i<= math.sqrt(n)):\n",
    "        if n%i == 0:\n",
    "            result = False\n",
    "        i=i+1\n",
    "    return result\n",
    "\n",
    "def Goldbach(n):\n",
    "    GL = []\n",
    "    for i in range(int(n/2)+1):\n",
    "        if is_Prime(i) and is_Prime(n-i):\n",
    "            GL.append((i,n-i))\n",
    "    return GL\n",
    "# -------------------PASSED 5/5 -----------------------\n",
    "\n",
    "\n",
    "n=int(input())\n",
    "print(sorted(Goldbach(n)))"
   ]
  },
  {
   "cell_type": "markdown",
   "id": "b0910afb",
   "metadata": {},
   "source": [
    "## Odd one out : data type"
   ]
  },
  {
   "cell_type": "code",
   "execution_count": 21,
   "id": "143bff67",
   "metadata": {},
   "outputs": [
    {
     "name": "stdout",
     "output_type": "stream",
     "text": [
      "<class 'float'>\n"
     ]
    }
   ],
   "source": [
    "L = [1,2,3,4.5]\n",
    "s = type(L[3])\n",
    "print(s)"
   ]
  },
  {
   "cell_type": "code",
   "execution_count": 22,
   "id": "9768a93e",
   "metadata": {},
   "outputs": [
    {
     "data": {
      "text/plain": [
       "True"
      ]
     },
     "execution_count": 22,
     "metadata": {},
     "output_type": "execute_result"
    }
   ],
   "source": [
    "type(L[3]) is float"
   ]
  },
  {
   "cell_type": "code",
   "execution_count": 23,
   "id": "03e0c8ff",
   "metadata": {},
   "outputs": [],
   "source": [
    "def odd_one(L):\n",
    "    D = {\"int\":0,\"float\":0,\"str\":0,\"bool\":0}\n",
    "    for i in L:\n",
    "        if type(i) is int:\n",
    "            D[\"int\"] = D[\"int\"]+1\n",
    "            \n",
    "        if type(i) is float:\n",
    "            D[\"float\"] = D[\"float\"]+1\n",
    "            \n",
    "        if type(i) is str:\n",
    "            D[\"str\"] = D[\"str\"]+1\n",
    "            \n",
    "        if type(i) is bool:\n",
    "            D[\"bool\"] = D[\"bool\"]+1\n",
    "    for key in D:\n",
    "        if D[key]==1:\n",
    "            return key"
   ]
  },
  {
   "cell_type": "markdown",
   "id": "7589aa22",
   "metadata": {},
   "source": [
    "### EXTRAS"
   ]
  },
  {
   "cell_type": "markdown",
   "id": "a9940d94",
   "metadata": {},
   "source": [
    "### Check whether a number is perfect square"
   ]
  },
  {
   "cell_type": "code",
   "execution_count": 35,
   "id": "8e35c2f2",
   "metadata": {},
   "outputs": [],
   "source": [
    "# -----BRUTE------\n",
    "\n",
    "def h1(n):\n",
    "    for i in range(1,n+1):\n",
    "        if i*i == n:\n",
    "            return True\n",
    "    return False\n",
    "\n",
    "# -----BETTER------\n",
    "\n",
    "def h2(n):\n",
    "    for i in range(1,n+1):\n",
    "        if i*i > n:\n",
    "            break\n",
    "        elif i*i == n:\n",
    "            return True\n",
    "    return False\n",
    "\n",
    "# -----BETTER------\n",
    "\n",
    "def h3(n):\n",
    "    return (n**0.5) == int(n**0.5)"
   ]
  },
  {
   "cell_type": "code",
   "execution_count": null,
   "id": "0e511358",
   "metadata": {},
   "outputs": [],
   "source": []
  }
 ],
 "metadata": {
  "kernelspec": {
   "display_name": "Python 3 (ipykernel)",
   "language": "python",
   "name": "python3"
  },
  "language_info": {
   "codemirror_mode": {
    "name": "ipython",
    "version": 3
   },
   "file_extension": ".py",
   "mimetype": "text/x-python",
   "name": "python",
   "nbconvert_exporter": "python",
   "pygments_lexer": "ipython3",
   "version": "3.11.7"
  }
 },
 "nbformat": 4,
 "nbformat_minor": 5
}
