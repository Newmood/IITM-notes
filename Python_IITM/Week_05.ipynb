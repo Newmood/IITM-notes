{
 "cells": [
  {
   "cell_type": "markdown",
   "id": "3899a39e",
   "metadata": {},
   "source": [
    "# Week 5"
   ]
  },
  {
   "cell_type": "markdown",
   "id": "e9d01928",
   "metadata": {},
   "source": [
    "## Introduction to functions"
   ]
  },
  {
   "cell_type": "code",
   "execution_count": 1,
   "id": "4d773eba",
   "metadata": {},
   "outputs": [
    {
     "name": "stdout",
     "output_type": "stream",
     "text": [
      "12\n",
      "92.0\n"
     ]
    }
   ],
   "source": [
    "def add(a,b):\n",
    "    ans=a+b\n",
    "    print(ans)\n",
    "add(5,7)\n",
    "\n",
    "def discount(cost,d):\n",
    "    ans= cost - (cost*(d/100))\n",
    "    print(ans)\n",
    "discount(100,8)"
   ]
  },
  {
   "cell_type": "markdown",
   "id": "62bb79ba",
   "metadata": {},
   "source": [
    "In the last two examples ans is not a numerical variable, if we execute `add(3,5)+discount(100,8)` we will get an error msg as \"`+ operand not aplicable for these`\". Hence we use `return` instead as follows:"
   ]
  },
  {
   "cell_type": "code",
   "execution_count": 2,
   "id": "73965d88",
   "metadata": {},
   "outputs": [
    {
     "name": "stdout",
     "output_type": "stream",
     "text": [
      "22\n",
      "Enter cost: 100\n",
      "Enter the discount: 8\n",
      "The amount after discount is: 92.0\n"
     ]
    }
   ],
   "source": [
    "def add(a,b):\n",
    "    ans=a+b\n",
    "    return ans\n",
    "print(add(5,7)+10)\n",
    "\n",
    "\n",
    "def discount(cost,d):\n",
    "    ans=cost-cost*(d/100)\n",
    "    return ans\n",
    "\n",
    "c=int(input(\"Enter cost: \"))\n",
    "disc=int(input(\"Enter the discount: \"))\n",
    "print(\"The amount after discount is:\",discount(c,disc))"
   ]
  },
  {
   "cell_type": "markdown",
   "id": "86209e18",
   "metadata": {},
   "source": [
    "## Types of function arguments"
   ]
  },
  {
   "cell_type": "markdown",
   "id": "8aa2c93d",
   "metadata": {},
   "source": [
    "1. Positional arguments: where position of passing arguments matters\n",
    "2. Keyword arguments are values that, when passed into a function, are identifiable by specific parameter names  \n",
    "\n",
    "Following example:\n",
    "\n",
    "```python\n",
    "def add(c,a,b):\n",
    "    return a+b-c\n",
    "```\n",
    "\n",
    "Suppose we want to do 20+30-40\n",
    "```python\n",
    "print(add(40,20,30))  # we will have to go back everytime and see the position of the variables \n",
    "print(add(a=20,b=30,c=40)) # hence we can avoid the confusion about position by assigning the values like this \n",
    "```\n",
    "\n",
    "Sometimes default arguments can be given beforehand while defining a functions as in the code given below:\n",
    "\n",
    "```python\n",
    "def add(c,a=20,b=30):\n",
    "    return a+b-c\n",
    "\n",
    "print(add(40))\n",
    "print(add(40,10,50))\n",
    "```\n",
    "Hence three type of args: positional,keyword,default. we can use any combination"
   ]
  },
  {
   "cell_type": "markdown",
   "id": "443bd68c",
   "metadata": {},
   "source": [
    "## Scope  of variables and function types"
   ]
  },
  {
   "cell_type": "markdown",
   "id": "a0e9d145",
   "metadata": {},
   "source": [
    "Scope of variables lecture link: https://www.youtube.com/watch?v=4q5rGHfR-ic&t=2s\n",
    "\n",
    "Global and local vairables example:"
   ]
  },
  {
   "cell_type": "code",
   "execution_count": 14,
   "id": "29ed5d94",
   "metadata": {},
   "outputs": [
    {
     "name": "stdout",
     "output_type": "stream",
     "text": [
      "value of x before function1 call: 5\n",
      "value of x in function1: 10\n",
      "value of x after function1 call: 5\n"
     ]
    }
   ],
   "source": [
    "def myfunction1(x):\n",
    "    x=x*2\n",
    "    return (\"value of x in function1:\",x)\n",
    "\n",
    "x=5\n",
    "print(\"value of x before function1 call:\",x)\n",
    "print(myfunction1(x)[0],myfunction1(x)[1])\n",
    "print(\"value of x after function1 call:\",x)"
   ]
  },
  {
   "cell_type": "markdown",
   "id": "493e84ef",
   "metadata": {},
   "source": [
    "We have been using functions since week1, but never referred them as functions in the start.  \n",
    "There are many types of functions:\n",
    "1. Category1(These are inbuilt functions): print(),input(),len()\n",
    "2. Category2(This are library functions): log(), sqrt(), random(), randrange(), calendar(),month()\n",
    "3. Category3(often called as string methods): upper(), lower(), strip(), count(), index(), replace()\n",
    "4. Category4(user defined functions): \n",
    "\n",
    "```python\n",
    "def square(x):\n",
    "    sqr = x ** 2\n",
    "    return sqr\n",
    "print(square(5))\n",
    "```\n",
    "\n",
    "Tutorial on functions: https://www.youtube.com/watch?v=mkAbfQM2OJY&t=175s"
   ]
  },
  {
   "cell_type": "markdown",
   "id": "0cb0f6be",
   "metadata": {},
   "source": [
    "## Functions for matrix multiplication\n",
    "\n",
    "1. Initialise `C` to `0`\n",
    "2. need to consider two matrices `A` and `B`\n",
    "3. need to find the dot products of two lists\n",
    "4. need to pick the `i`th and `j`th row of a matrix"
   ]
  },
  {
   "cell_type": "code",
   "execution_count": 15,
   "id": "12d53d2b",
   "metadata": {},
   "outputs": [
    {
     "name": "stdout",
     "output_type": "stream",
     "text": [
      "[[25, 10, 24], [55, 25, 57], [85, 40, 90]]\n"
     ]
    }
   ],
   "source": [
    "def initialize_mat(dim):\n",
    "    C=[]\n",
    "    for i in range(dim):\n",
    "        C.append([])\n",
    "    for i in range(dim):\n",
    "        for j in range(dim):\n",
    "            C[i].append(0)\n",
    "    return C\n",
    "  \n",
    "def dot_product(u,v): #assuming u and v have same dim\n",
    "    dim=len(u)\n",
    "    ans=0\n",
    "    for i in range(dim):\n",
    "        ans=ans+ (v[i]*u[i])\n",
    "    return(ans)\n",
    "\n",
    "def row(M,i):\n",
    "    dim=len(M)\n",
    "    l=[]\n",
    "    for k in range(dim):\n",
    "        l.append(M[i][k])\n",
    "    return l\n",
    "\n",
    "def column(M,j):\n",
    "    dim=len(M)\n",
    "    l=[]\n",
    "    for k in range(dim):\n",
    "        l.append(M[k][j])\n",
    "    return l\n",
    "\n",
    "def mat_mult(A,B): #assuming A and B to be same dim\n",
    "    dim= len(A)\n",
    "    C= initialize_mat(dim)\n",
    "    for i in range(dim):\n",
    "        for j in range(dim):\n",
    "            C[i][j]= dot_product(row(A,i),column(B,j))\n",
    "    return C\n",
    "\n",
    "A=[[1,2,3],[4,5,6],[7,8,9]]\n",
    "B=[[1,2,1],[3,1,7],[6,2,3]]\n",
    "print(mat_mult(A,B))"
   ]
  },
  {
   "cell_type": "markdown",
   "id": "2ff2d95b",
   "metadata": {},
   "source": [
    "## More examples using functions"
   ]
  },
  {
   "cell_type": "markdown",
   "id": "3ac709f9",
   "metadata": {},
   "source": [
    "### Some list functions:"
   ]
  },
  {
   "cell_type": "code",
   "execution_count": 16,
   "id": "d2e6893c",
   "metadata": {},
   "outputs": [],
   "source": [
    "# try finding maximum and minimum of numbers in a list\n",
    "\n",
    "def list_mini(l): #finding min of numbers in a list\n",
    "    mini=l[0]\n",
    "    for i in range(len(l)):\n",
    "        if (l[i]<mini):\n",
    "            mini=l[i]\n",
    "    return mini\n",
    "\n",
    "def list_maxi(l): #finding max number in a list\n",
    "    maxi=l[0]\n",
    "    for i in range(len(l)):\n",
    "        if (l[i]>maxi):\n",
    "            maxi=l[i]\n",
    "    return maxi\n",
    "\n",
    "def list_appendbefore(l,z): #function for elements of 2nd list to be added before elements of 1st list\n",
    "    newl=[]\n",
    "    for i in range(len(z)):\n",
    "        newl.append(z[i])\n",
    "    for i in range(len(l)):\n",
    "        newl.append(l[i])\n",
    "    return newl\n",
    "\n",
    "def list_average(l):\n",
    "    sum=0\n",
    "    for i in range(len(l)):\n",
    "        sum=sum+l[i]\n",
    "    average=sum/len(l)\n",
    "    return average"
   ]
  },
  {
   "cell_type": "code",
   "execution_count": 17,
   "id": "77821b86",
   "metadata": {},
   "outputs": [
    {
     "name": "stdout",
     "output_type": "stream",
     "text": [
      "Enter number of elements for first list: 5\n",
      "Enter element for first list: 2\n",
      "Enter element for first list: 3\n",
      "Enter element for first list: 4\n",
      "Enter element for first list: 5\n",
      "Enter element for first list: 6\n",
      "[2, 3, 4, 5, 6]\n",
      "Enter number of elements for second list: 4\n",
      "Enter element for second list: 33\n",
      "Enter element for second list: 1\n",
      "Enter element for second list: 45\n",
      "Enter element for second list: 6\n",
      "[33, 1, 45, 6]\n",
      "The min in first list is: 2\n",
      "The max in first list is: 6\n",
      "The new list is: [33, 1, 45, 6, 2, 3, 4, 5, 6]\n",
      "Average of the numbers in list1 is: 4.0\n"
     ]
    }
   ],
   "source": [
    "# take input for first and second list\n",
    "list1 = []\n",
    "n1 = int(input(\"Enter number of elements for first list: \"))\n",
    "for i in range(0, n1): #iterate over number of elements\n",
    "    ele = int(input(\"Enter element for first list: \")) #prompt for elements\n",
    "    list1.append(ele) #append element to list\n",
    "\n",
    "print(list1)\n",
    "\n",
    "list2 = []\n",
    "n2 = int(input(\"Enter number of elements for second list: \"))\n",
    "for i in range(0, n2): #iterate over number of elements\n",
    "    ele = int(input(\"Enter element for second list: \")) #prompt for elements\n",
    "    list2.append(ele) #append element to list\n",
    "\n",
    "print(list2)\n",
    "\n",
    "print(\"The min in first list is:\",list_mini(list1))\n",
    "print(\"The max in first list is:\",list_maxi(list1))\n",
    "print(\"The new list is:\",list_appendbefore(list1,list2))\n",
    "print(\"Average of the numbers in list1 is:\",list_average(list1))"
   ]
  },
  {
   "cell_type": "markdown",
   "id": "ad615dab",
   "metadata": {},
   "source": [
    "### Sorting using function"
   ]
  },
  {
   "cell_type": "code",
   "execution_count": 18,
   "id": "2e23e29e",
   "metadata": {},
   "outputs": [
    {
     "name": "stdout",
     "output_type": "stream",
     "text": [
      "[1, 5, 23, 88, 90, 97]\n"
     ]
    }
   ],
   "source": [
    "def obvious_sort(l):\n",
    "    x=[]\n",
    "    while (len(l)>0):\n",
    "        mini=l[0]\n",
    "        for i in range(len(l)):\n",
    "            if l[i]<mini:\n",
    "                mini=l[i]\n",
    "        x.append(mini)\n",
    "        l.remove(mini)\n",
    "    return(x)\n",
    "\n",
    "l=[90,23,97,88,5,1]\n",
    "print(obvious_sort(l))"
   ]
  },
  {
   "cell_type": "markdown",
   "id": "f8731060",
   "metadata": {},
   "source": [
    "### Obvious sort, but easier"
   ]
  },
  {
   "cell_type": "code",
   "execution_count": 19,
   "id": "d518653a",
   "metadata": {},
   "outputs": [
    {
     "name": "stdout",
     "output_type": "stream",
     "text": [
      "[1, 5, 23, 88, 90, 97]\n"
     ]
    }
   ],
   "source": [
    "def min_list(l): #first find the min\n",
    "    min=l[0]\n",
    "    for i in range(len(l)):\n",
    "        if l[i]<min:\n",
    "            min = l[i]\n",
    "    return min\n",
    "\n",
    "def obvious_sort1(l): #append the min in x and removing it from l\n",
    "    x = []\n",
    "    while (len(l)>0):\n",
    "        mini=min_list(l)\n",
    "        x.append(mini)\n",
    "        l.remove(mini)\n",
    "    return x\n",
    "  \n",
    "l=[90,23,97,88,5,1]\n",
    "print(obvious_sort1(l))"
   ]
  },
  {
   "cell_type": "markdown",
   "id": "04590efc",
   "metadata": {},
   "source": [
    "## Recursion"
   ]
  },
  {
   "cell_type": "code",
   "execution_count": 24,
   "id": "c6e2055e",
   "metadata": {},
   "outputs": [],
   "source": [
    "# SUM OF FIRST N POSITIVE INTEGERS\n",
    "def sum(n): \n",
    "    if (n==1):\n",
    "        return 1\n",
    "    else:\n",
    "        return n+sum(n-1)\n",
    "\n",
    "\n",
    "# Function for finding compound interest over 10% rate\n",
    "def compound_recursive(p,n): \n",
    "    if (n==1):\n",
    "        return p*(1.1)\n",
    "    else:\n",
    "        return (compound_recursive(p,n-1))*(1.1)\n",
    "# However using recursion would be less efficient as simple computation can work:\n",
    "def compound(p, n):\n",
    "    return p * (1.1 ** n)\n",
    "\n",
    "    \n",
    "# FACTORIAL FUNCTION\n",
    "def fact(n): \n",
    "    if (n==1):\n",
    "        return 1\n",
    "    else:\n",
    "        return n*(fact(n-1))"
   ]
  },
  {
   "cell_type": "code",
   "execution_count": 25,
   "id": "c4e87651",
   "metadata": {},
   "outputs": [
    {
     "name": "stdout",
     "output_type": "stream",
     "text": [
      "55\n",
      "120\n",
      "121.00000000000003\n",
      "121.00000000000001\n"
     ]
    }
   ],
   "source": [
    "print(sum(10))\n",
    "print(fact(5))\n",
    "print(compound_recursive(100,2))\n",
    "print(compound(100,2))"
   ]
  },
  {
   "cell_type": "code",
   "execution_count": null,
   "id": "ff12cac6",
   "metadata": {},
   "outputs": [],
   "source": []
  }
 ],
 "metadata": {
  "kernelspec": {
   "display_name": "Python 3 (ipykernel)",
   "language": "python",
   "name": "python3"
  },
  "language_info": {
   "codemirror_mode": {
    "name": "ipython",
    "version": 3
   },
   "file_extension": ".py",
   "mimetype": "text/x-python",
   "name": "python",
   "nbconvert_exporter": "python",
   "pygments_lexer": "ipython3",
   "version": "3.9.13"
  }
 },
 "nbformat": 4,
 "nbformat_minor": 5
}
