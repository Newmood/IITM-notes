{
 "cells": [
  {
   "cell_type": "markdown",
   "id": "7f2971b1",
   "metadata": {},
   "source": [
    "# WEEK 8"
   ]
  },
  {
   "cell_type": "markdown",
   "id": "79d3323d",
   "metadata": {},
   "source": [
    "## Recursion"
   ]
  },
  {
   "cell_type": "code",
   "execution_count": 1,
   "id": "42e71187",
   "metadata": {},
   "outputs": [
    {
     "name": "stdout",
     "output_type": "stream",
     "text": [
      "1\n"
     ]
    }
   ],
   "source": [
    "# a recursive function to check whether a list contains the element 0\n",
    "\n",
    "def check0(L):\n",
    "    if len(L)==0:\n",
    "        return 0\n",
    "    if (L[0]==0):\n",
    "        return 1\n",
    "    else:\n",
    "        return check0(L[1:])\n",
    "\n",
    "ans = (check0([1,2,3,4,5,6,7,8,9,0]))\n",
    "print(ans)"
   ]
  },
  {
   "cell_type": "markdown",
   "id": "5e0900f4",
   "metadata": {},
   "source": [
    "This is not an efficient code, but we will address this later"
   ]
  },
  {
   "cell_type": "code",
   "execution_count": 2,
   "id": "7ed1f3d1",
   "metadata": {},
   "outputs": [
    {
     "name": "stdout",
     "output_type": "stream",
     "text": [
      "[1, 4, 6, 6, 7, 8, 34, 42]\n"
     ]
    }
   ],
   "source": [
    "# sorting recursively\n",
    "\n",
    "def mini(L):\n",
    "    mini=L[0]\n",
    "    for x in L:\n",
    "        if x<mini:\n",
    "            mini=x\n",
    "    return mini\n",
    "  \n",
    "def sort(L):\n",
    "    if (len(L) <= 1):\n",
    "        return L\n",
    "    min=mini(L)\n",
    "    L.remove(min)\n",
    "    return [min]+sort(L)\n",
    "  \n",
    "L=[4,6,1,34,7,8,42,6]\n",
    "print(sort(L))\n"
   ]
  },
  {
   "cell_type": "markdown",
   "id": "29683294",
   "metadata": {},
   "source": [
    "## Binary Search"
   ]
  },
  {
   "cell_type": "markdown",
   "id": "d11f2e69",
   "metadata": {},
   "source": [
    "- Warm up for binary search\n",
    "- Here we see what we did during obvious search"
   ]
  },
  {
   "cell_type": "code",
   "execution_count": 17,
   "id": "43d59ec7",
   "metadata": {},
   "outputs": [
    {
     "name": "stdout",
     "output_type": "stream",
     "text": [
      "1\n",
      "4.4212822914123535\n"
     ]
    }
   ],
   "source": [
    "import time\n",
    "a=time.time() # a is the time at this moment\n",
    "def obvious_Search(L,k): # check if the element k is in the list L\n",
    "    for x in L:\n",
    "        if x==k:\n",
    "            return 1\n",
    "    return 0\n",
    "\n",
    "#L=[1,24,43,5,7,0,54,6,7,4,9]\n",
    "L=list(range(100000000))\n",
    "print(obvious_Search(L,9))\n",
    "b=time.time() # b is the time at this moment\n",
    "print(b-a) # difference in time, so the time that this code took"
   ]
  },
  {
   "cell_type": "markdown",
   "id": "beb8e5e2",
   "metadata": {},
   "source": [
    "## Binary Search Implementation\n",
    "\n",
    "Searching a dictionary is easy if it is sorted."
   ]
  },
  {
   "cell_type": "code",
   "execution_count": 8,
   "id": "967e77b4",
   "metadata": {},
   "outputs": [],
   "source": [
    "def binary_search(L,k):\n",
    "    '''This funtion is an alternative for the obvious seaarch.\n",
    "    It does exactly what is expected from the obvious_search,\n",
    "    but in an efficient way, this method is known as binary search.\n",
    "    '''\n",
    "    #we want to shrink the list\n",
    "    #we will do that using the while loop\n",
    "\n",
    "    begin=0 # first element in L\n",
    "    end=len(L)-1 # the last element in L is in len(L).L[len(l)-1]\n",
    "\n",
    "    while(end-begin>1):\n",
    "        mid=(begin+end)//2\n",
    "        if L[mid]==k:\n",
    "            return 1\n",
    "        if (L[mid]>k):\n",
    "            end=mid-1\n",
    "        if (L[mid]<k):\n",
    "            begin=mid+1\n",
    "            \n",
    "    #Now we are outside the while loop, which means we havent found the element. \n",
    "    #Also it means the while condition is violated which is when end-begin<=1.\n",
    "    #if end-begin==1 then there is only 2 element in our region of interest\n",
    "    \n",
    "    if L[begin]==k or L[end]==k:\n",
    "        return 1\n",
    "    else:\n",
    "        return 0"
   ]
  },
  {
   "cell_type": "code",
   "execution_count": 18,
   "id": "fb5fe154",
   "metadata": {},
   "outputs": [
    {
     "name": "stdout",
     "output_type": "stream",
     "text": [
      "1\n",
      "0.009629011154174805\n"
     ]
    }
   ],
   "source": [
    "L=list(range(100000000))\n",
    "a=time.time() # a is the time at this moment\n",
    "print(binary_search(L,9))\n",
    "b=time.time() # b is the time at this moment\n",
    "print(b-a) # difference in time, so the time that this code took"
   ]
  },
  {
   "cell_type": "markdown",
   "id": "39c1142f",
   "metadata": {},
   "source": [
    "## Binary Search using Recursion"
   ]
  },
  {
   "cell_type": "code",
   "execution_count": 12,
   "id": "c85afbfc",
   "metadata": {},
   "outputs": [],
   "source": [
    "def rbinarysearch(L,k,begin,end):\n",
    "    '''This will recursively compute binary search'''\n",
    "    # for recursion first we see all trivial cases then we see non trivial ones.\n",
    "    if (begin==end):        # if begin and end are same, just check one of them\n",
    "        if (L[begin]==k):\n",
    "            return 1\n",
    "        else:\n",
    "            return 0 \n",
    "    if (end-begin==1):      # if begin and end are consecutive check them both\n",
    "        if (L[begin]==k) or (L[end]==k):\n",
    "            return 1\n",
    "        else:\n",
    "            return 0\n",
    "    if (end-begin>1):       # if there are more elements bw end and begin\n",
    "        mid=(begin+end)//2  # we calculate mid (for the binary way)\n",
    "        if (L[mid]>k):\n",
    "            end=mid-1\n",
    "        if (L[mid]<k):\n",
    "            begin=mid+1\n",
    "        if (L[mid]==k):\n",
    "            return 1\n",
    "    if (end-begin<0):\n",
    "        return 0\n",
    "    return rbinarysearch(L,k,begin,end)"
   ]
  },
  {
   "cell_type": "markdown",
   "id": "c63781cd",
   "metadata": {},
   "source": [
    "Dangers of using recursion in python:\n",
    "- Recursion does not work beyond a limit, it cannot go on and on\n",
    "- we have a limit of 999 which can be changed by import a sys library\n",
    "- It will throw an error if we use >999 as \"maximum recursion depth exceeded\""
   ]
  },
  {
   "cell_type": "code",
   "execution_count": 19,
   "id": "8c3f69e6",
   "metadata": {},
   "outputs": [
    {
     "name": "stdout",
     "output_type": "stream",
     "text": [
      "1\n",
      "0.0032966136932373047\n"
     ]
    }
   ],
   "source": [
    "L=list(range(100000))\n",
    "k=99999\n",
    "begin=0\n",
    "end=99999\n",
    "\n",
    "a=time.time() # a is the time at this moment\n",
    "print(rbinarysearch(L,k,begin,end))\n",
    "b=time.time() # b is the time at this moment\n",
    "print(b-a) # difference in time, so the time that this code took"
   ]
  },
  {
   "cell_type": "code",
   "execution_count": null,
   "id": "47822ed7",
   "metadata": {},
   "outputs": [],
   "source": []
  }
 ],
 "metadata": {
  "kernelspec": {
   "display_name": "Python 3 (ipykernel)",
   "language": "python",
   "name": "python3"
  },
  "language_info": {
   "codemirror_mode": {
    "name": "ipython",
    "version": 3
   },
   "file_extension": ".py",
   "mimetype": "text/x-python",
   "name": "python",
   "nbconvert_exporter": "python",
   "pygments_lexer": "ipython3",
   "version": "3.9.13"
  }
 },
 "nbformat": 4,
 "nbformat_minor": 5
}
