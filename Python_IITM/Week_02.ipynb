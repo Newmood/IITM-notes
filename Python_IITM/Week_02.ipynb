{
 "cells": [
  {
   "cell_type": "markdown",
   "id": "f275e0e3",
   "metadata": {},
   "source": [
    "# Week 2\n",
    "\n",
    "**Variables, escape characters & quotes, string methods, if-else, import library**"
   ]
  },
  {
   "cell_type": "markdown",
   "id": "1d264859",
   "metadata": {},
   "source": [
    "## Variables\n",
    "\n",
    "1. Variable names :\n",
    "    - should be self explanatory, they can be arbitrarily long.\n",
    "    - can contain only alphanumeric and underscore, cannot start with numbers\n",
    "    - avoid starting with underscore '``_``'\n",
    "    - following keywrods are reserved, cannot be used for variable naming:  \n",
    "    |    |      |     |     |     |\n",
    "    |----|------|-----|-----|-----|  \n",
    "    | and|del   | from| None| yield|    \n",
    "    |True| as   | elif| global| continue|  \n",
    "    |nonlocal|try|assert|else| finally|  \n",
    "    |if | not | while | break| is|  \n",
    "    |except | import | or | with | raise|  \n",
    "    |class|False|in|pass|def|\n",
    "    |for|lambda|return|\n",
    "  \n",
    "2. It is good to write lots of comments\n",
    "3. It is good if first line of code says what we are working for"
   ]
  },
  {
   "cell_type": "code",
   "execution_count": 1,
   "id": "d59b3d79",
   "metadata": {},
   "outputs": [
    {
     "name": "stdout",
     "output_type": "stream",
     "text": [
      "<class 'int'>\n",
      "<class 'str'>\n"
     ]
    }
   ],
   "source": [
    "# Here we will see dynamic typing (type of the variable is dynamic)\n",
    "a=10\n",
    "print(type(a))\n",
    "a='India'\n",
    "print(type(a))"
   ]
  },
  {
   "cell_type": "code",
   "execution_count": 2,
   "id": "9178bebd",
   "metadata": {},
   "outputs": [
    {
     "name": "stdout",
     "output_type": "stream",
     "text": [
      "10 <class 'int'>\n",
      "5.0 <class 'float'>\n"
     ]
    }
   ],
   "source": [
    "n=10\n",
    "print(n, type(n))\n",
    "n=n/2\n",
    "print(n, type(n))"
   ]
  },
  {
   "cell_type": "code",
   "execution_count": 3,
   "id": "896c3715",
   "metadata": {},
   "outputs": [
    {
     "name": "stdout",
     "output_type": "stream",
     "text": [
      "Multiple assigning\n",
      "1 2\n",
      "10 10 10\n",
      "2 1\n"
     ]
    }
   ],
   "source": [
    "print('Multiple assigning')\n",
    "k,l=1,2\n",
    "print(k,l)\n",
    "x=y=z=10\n",
    "print(x,y,z)\n",
    "k,l=l,k # assigned variable values to variables\n",
    "print(k,l)"
   ]
  },
  {
   "cell_type": "markdown",
   "id": "b4a02c2b",
   "metadata": {},
   "source": [
    "- We can also delete a variable by typing `del`. Suppose we want to delete variable `x` then we write ``del x``"
   ]
  },
  {
   "cell_type": "code",
   "execution_count": 4,
   "id": "da590b4b",
   "metadata": {},
   "outputs": [
    {
     "name": "stdout",
     "output_type": "stream",
     "text": [
      "Now we will see shorthand operators:\n",
      "2\n"
     ]
    }
   ],
   "source": [
    "print('Now we will see shorthand operators:')\n",
    "count = 0\n",
    "count += 1\n",
    "count = count + 1\n",
    "# The statement in line 4 is the same in line 3. the way it is written in line 3 is known as shorthand\n",
    "print(count) # This can also be done with other arithmetic operators like sub, mul and div"
   ]
  },
  {
   "cell_type": "code",
   "execution_count": 5,
   "id": "eeb802f9",
   "metadata": {},
   "outputs": [
    {
     "name": "stdout",
     "output_type": "stream",
     "text": [
      "Now we will see in operator\n",
      "True\n",
      "False\n"
     ]
    }
   ],
   "source": [
    "print('Now we will see in operator')\n",
    "print( 'we' in  'Now we will see in operator')\n",
    "print( 'we' in 'Now will see in operator')"
   ]
  },
  {
   "cell_type": "code",
   "execution_count": 6,
   "id": "e72a1767",
   "metadata": {},
   "outputs": [
    {
     "name": "stdout",
     "output_type": "stream",
     "text": [
      "Now we will see chaining operators\n",
      "True\n",
      "False\n",
      "True\n"
     ]
    }
   ],
   "source": [
    "print('Now we will see chaining operators')\n",
    "# using multiple relational operators in a single statement is known as chaining operators\n",
    "m= 5\n",
    "print(1 < m < 10 )\n",
    "print( m< 10 < m*100 < 100)\n",
    "print( 5 == m > 4)"
   ]
  },
  {
   "cell_type": "markdown",
   "id": "f638c796",
   "metadata": {},
   "source": [
    "## Escape character and quote type"
   ]
  },
  {
   "cell_type": "markdown",
   "id": "2d12d324",
   "metadata": {},
   "source": [
    "Escape character is a character that allows us to add specific characters in a string in print which usually we cannot for example a single quote. It is returned as backslash\n"
   ]
  },
  {
   "cell_type": "code",
   "execution_count": 7,
   "id": "55e7f2ae",
   "metadata": {},
   "outputs": [
    {
     "name": "stdout",
     "output_type": "stream",
     "text": [
      "It's a beautiful day\n",
      "We are from \"IITM\".\n",
      "This is one sentence. This is another sentence\n",
      "This is one sentence. \t This is another sentence with more gap in between.\n",
      "This is a sentence. \n",
      " This is another sentence in a newline\n",
      "It's a beautiful day\n",
      "we are from \"IITM\".\n"
     ]
    }
   ],
   "source": [
    "print('It\\'s a beautiful day')\n",
    "print(\"We are from \\\"IITM\\\".\")\n",
    "print(\"This is one sentence. This is another sentence\")\n",
    "print(\"This is one sentence. \\t This is another sentence with more gap in between.\")\n",
    "print(\"This is a sentence. \\n This is another sentence in a newline\")\n",
    "print(\"It's a beautiful day\")\n",
    "print('we are from \"IITM\".')"
   ]
  },
  {
   "cell_type": "code",
   "execution_count": 8,
   "id": "3bd295d9",
   "metadata": {},
   "outputs": [
    {
     "name": "stdout",
     "output_type": "stream",
     "text": [
      "This is a string\n",
      "This is also a string\n",
      "this is also a string but it has more lines\n",
      "first line\n",
      "second line\n",
      "For a multiline comment, we can also use triple quote\n"
     ]
    },
    {
     "data": {
      "text/plain": [
       "'like this\\nand this\\nand this'"
      ]
     },
     "execution_count": 8,
     "metadata": {},
     "output_type": "execute_result"
    }
   ],
   "source": [
    "# Now we will see types of quotes and their use\n",
    "x='This is a string'\n",
    "y=\"This is also a string\"\n",
    "z='''this is also a string but it has more lines\n",
    "first line\n",
    "second line''' # Triple quote used for multilines strings\n",
    "print(x)\n",
    "print(y)\n",
    "print(z)\n",
    "print('For a multiline comment, we can also use triple quote')\n",
    "'''like this\n",
    "and this\n",
    "and this'''"
   ]
  },
  {
   "cell_type": "markdown",
   "id": "51974a66",
   "metadata": {},
   "source": [
    "## String Methods\n",
    "\n",
    "- We will learn string methods \n",
    "- `islower()`, `isupper()`, `istitle()`, `isdigit()`, `isalpha()`, `isalnum()` - these return `True` if the string contains all lowercase, all upper case, title format, all digits, all alphabets, all alphanumeric characters respectively else returns `False`.\n",
    "\n",
    "- `strip()`, `lstrip()`, `rstrip()` returns the  trimmed version of the string"
   ]
  },
  {
   "cell_type": "code",
   "execution_count": 9,
   "id": "2db758b2",
   "metadata": {},
   "outputs": [
    {
     "name": "stdout",
     "output_type": "stream",
     "text": [
      "Python\n",
      "Python----\n",
      "----Python\n"
     ]
    }
   ],
   "source": [
    "x1='----Python----'\n",
    "print(x1.strip('-'))\n",
    "print(x1.lstrip('-'))\n",
    "print(x1.rstrip('-'))"
   ]
  },
  {
   "cell_type": "markdown",
   "id": "e8ce3489",
   "metadata": {},
   "source": [
    "- `startswith()` , `endswith()` returns `True` if the string starts, ends with a specified char respectively else returns `False`; this is case sensitive."
   ]
  },
  {
   "cell_type": "code",
   "execution_count": 10,
   "id": "2d9e422a",
   "metadata": {},
   "outputs": [
    {
     "name": "stdout",
     "output_type": "stream",
     "text": [
      "True\n",
      "False\n"
     ]
    }
   ],
   "source": [
    "x2='Python'\n",
    "print(x2.startswith('P'))\n",
    "print(x2.endswith('N'))"
   ]
  },
  {
   "cell_type": "markdown",
   "id": "99fea90e",
   "metadata": {},
   "source": [
    "- `count()` returns the number of time a char appears in the string\n",
    "- `index()` returns the first place value of a char in the string\n",
    "- `replace()` returns the string after replacing a specified char with another\n"
   ]
  },
  {
   "cell_type": "code",
   "execution_count": 11,
   "id": "0c8b2577",
   "metadata": {},
   "outputs": [
    {
     "name": "stdout",
     "output_type": "stream",
     "text": [
      "3\n",
      "4\n",
      "Python string methods\n"
     ]
    }
   ],
   "source": [
    "x3='Python String Methods'\n",
    "print(x3.count('t'))\n",
    "\n",
    "print(x3.index('o'))\n",
    "\n",
    "x3=x3.replace('S','s')\n",
    "x3=x3.replace('M', 'm')\n",
    "print(x3)"
   ]
  },
  {
   "cell_type": "markdown",
   "id": "2f4b86d0",
   "metadata": {},
   "source": [
    "## Import libraries"
   ]
  },
  {
   "cell_type": "code",
   "execution_count": 12,
   "id": "94012f22",
   "metadata": {},
   "outputs": [
    {
     "name": "stdout",
     "output_type": "stream",
     "text": [
      "2.302585092994046\n",
      "6.0\n",
      "3628800\n",
      "0.34624098463246056\n"
     ]
    }
   ],
   "source": [
    "import math\n",
    "import random\n",
    "import calendar\n",
    "\n",
    "print(math.log(10))\n",
    "print(math.sqrt(36))\n",
    "print(math.factorial(10))\n",
    "print(random.random())"
   ]
  },
  {
   "cell_type": "code",
   "execution_count": 13,
   "id": "8a0c8fe0",
   "metadata": {},
   "outputs": [
    {
     "name": "stdout",
     "output_type": "stream",
     "text": [
      "0.5640111557406958\n",
      "Tails\n"
     ]
    }
   ],
   "source": [
    "# Simulate a coin toss\n",
    "a=random.random()\n",
    "print(a)\n",
    "if (a<0.5):\n",
    "  print('Heads')\n",
    "else: \n",
    "  print('Tails')"
   ]
  },
  {
   "cell_type": "code",
   "execution_count": 14,
   "id": "8bf6de63",
   "metadata": {},
   "outputs": [
    {
     "name": "stdout",
     "output_type": "stream",
     "text": [
      "1\n"
     ]
    }
   ],
   "source": [
    "# Simulate a  six faced dice\n",
    "b=random.randrange(1,7)\n",
    "print(b)"
   ]
  },
  {
   "cell_type": "code",
   "execution_count": 15,
   "id": "646e97ce",
   "metadata": {},
   "outputs": [
    {
     "name": "stdout",
     "output_type": "stream",
     "text": [
      "    October 2022\n",
      "Mo Tu We Th Fr Sa Su\n",
      "                1  2\n",
      " 3  4  5  6  7  8  9\n",
      "10 11 12 13 14 15 16\n",
      "17 18 19 20 21 22 23\n",
      "24 25 26 27 28 29 30\n",
      "31\n",
      "\n"
     ]
    }
   ],
   "source": [
    "# Calendar library\n",
    "print(calendar.month(2022, 10))\n",
    "\n",
    "# print(calendar.calendar(2021))  #This prints the entire calendar year in the console"
   ]
  },
  {
   "cell_type": "markdown",
   "id": "b0d31865",
   "metadata": {},
   "source": [
    "- Instead of writing:\n",
    "    ```python\n",
    "    import calendar\n",
    "    print(calendar.calendar(2022,10))\n",
    "    ```\n",
    "\n",
    "- we may also write:\n",
    "    ```python\n",
    "    from calendar import *\n",
    "    print(month(2022,10))\n",
    "    ```\n",
    "\n",
    "- we can also import as:\n",
    "    ```python\n",
    "    import calendar as c\n",
    "    print(c.month(2022,10))\n",
    "    ```\n",
    "- or\n",
    "    ```python\n",
    "    from calendar import month as m\n",
    "    print(m(2022,10))\n",
    "    ```"
   ]
  },
  {
   "cell_type": "code",
   "execution_count": 16,
   "id": "ebf693ef",
   "metadata": {},
   "outputs": [
    {
     "name": "stdout",
     "output_type": "stream",
     "text": [
      "    October 2022\n",
      "Mo Tu We Th Fr Sa Su\n",
      "                1  2\n",
      " 3  4  5  6  7  8  9\n",
      "10 11 12 13 14 15 16\n",
      "17 18 19 20 21 22 23\n",
      "24 25 26 27 28 29 30\n",
      "31\n",
      "\n"
     ]
    }
   ],
   "source": [
    "from calendar import *\n",
    "print(month(2022,10))"
   ]
  },
  {
   "cell_type": "markdown",
   "id": "9b6ab5d1",
   "metadata": {},
   "source": [
    "## Interesting Cipher\n",
    "This is popularly called the Caesar cipher in cryptography"
   ]
  },
  {
   "cell_type": "code",
   "execution_count": 17,
   "id": "23807163",
   "metadata": {},
   "outputs": [
    {
     "name": "stdout",
     "output_type": "stream",
     "text": [
      "uqwoac\n"
     ]
    }
   ],
   "source": [
    "alpha='abcdefghijklmnopqrstuvwxyz'\n",
    "s='soumya'\n",
    "\n",
    "i=0\n",
    "t=''\n",
    "k=2\n",
    "t=t+  (alpha[(((alpha.index(s[i]))+k)%26)])\n",
    "t=t+  (alpha[(((alpha.index(s[i+1]))+k)%26)])\n",
    "t=t+  (alpha[(((alpha.index(s[i+2]))+k)%26)])\n",
    "t=t+  (alpha[(((alpha.index(s[i+3]))+k)%26)])\n",
    "t=t+  (alpha[(((alpha.index(s[i+4]))+k)%26)])\n",
    "t=t+  (alpha[(((alpha.index(s[i+5]))+k)%26)])\n",
    "\n",
    "print(t)"
   ]
  },
  {
   "cell_type": "markdown",
   "id": "9943a91b",
   "metadata": {},
   "source": [
    "## if statements"
   ]
  },
  {
   "cell_type": "code",
   "execution_count": 18,
   "id": "d43c63c7",
   "metadata": {},
   "outputs": [
    {
     "name": "stdout",
     "output_type": "stream",
     "text": [
      "Please enter your birth year.\n",
      "1995\n",
      "You are old enough to watch Avengers, enjoy!\n",
      "Dont forget to watch the sequels and prequels.\n",
      "Have a nice time!\n"
     ]
    }
   ],
   "source": [
    "print('Please enter your birth year.')\n",
    "birth_year = int(input())\n",
    "current_year = 2022\n",
    "age = current_year - birth_year\n",
    "if(age<13):\n",
    "  print('You are underage, you cannot watch this movie.')\n",
    "  print('Wait until you are old enough to watch this movie.')\n",
    "else:\n",
    "  print('You are old enough to watch Avengers, enjoy!')\n",
    "  print('Dont forget to watch the sequels and prequels.')\n",
    "print('Have a nice time!')"
   ]
  },
  {
   "cell_type": "code",
   "execution_count": 19,
   "id": "209a91ca",
   "metadata": {},
   "outputs": [
    {
     "name": "stdout",
     "output_type": "stream",
     "text": [
      "Enter a number: 57236\n",
      "Even\n"
     ]
    }
   ],
   "source": [
    "#  Tutorial on if,else and else-if (elif) conditions\n",
    "\n",
    "# Find whether the given num is even or odd\n",
    "\n",
    "num = int(input('Enter a number: '))\n",
    "if (num % 2== 0):\n",
    "  print('Even')\n",
    "else:\n",
    "  print('Odd')"
   ]
  },
  {
   "cell_type": "code",
   "execution_count": 20,
   "id": "90437a28",
   "metadata": {},
   "outputs": [
    {
     "name": "stdout",
     "output_type": "stream",
     "text": [
      "Enter a number: 67\n",
      "Other\n"
     ]
    }
   ],
   "source": [
    "# Find whether the number ends with ) 0 or 5 or any other number\n",
    "num= int(input('Enter a number: '))\n",
    "if (num % 5 == 0):\n",
    "  if (num % 10 == 0):\n",
    "    print('0')\n",
    "  else:\n",
    "    print('5')\n",
    "else:\n",
    "  print('Other')"
   ]
  },
  {
   "cell_type": "markdown",
   "id": "311fa2b2",
   "metadata": {},
   "source": [
    "In below code, `elif` is used instead of only `if`, because if we use only `if`, we will have to write the condition as `marks >= 80 and <=90`, `elif` is executed only if the condition before it fails"
   ]
  },
  {
   "cell_type": "code",
   "execution_count": 21,
   "id": "3e3cfa93",
   "metadata": {},
   "outputs": [
    {
     "name": "stdout",
     "output_type": "stream",
     "text": [
      "Enter marks: 87\n",
      "B\n"
     ]
    }
   ],
   "source": [
    "# Find the grade of the student based on the given marks between 0 and 100\n",
    "marks= int(input('Enter marks: '))\n",
    "if (marks >= 0 and marks <= 100):\n",
    "  if(marks >= 90):\n",
    "    print('A')\n",
    "  elif(marks >= 80):  \n",
    "    print('B')\n",
    "  elif(marks >= 70):\n",
    "    print('C')\n",
    "  elif(marks >= 60):\n",
    "    print('D')\n",
    "  elif(marks < 60):\n",
    "    print('E')\n",
    "else:\n",
    "  print('Invalid input')\n",
    "\n",
    "\n",
    "# Convert the flowchart into python code, example at 20:40 @ L2.9"
   ]
  },
  {
   "cell_type": "markdown",
   "id": "0999b786",
   "metadata": {},
   "source": [
    "End of week 2\n",
    "\n",
    "---"
   ]
  }
 ],
 "metadata": {
  "kernelspec": {
   "display_name": "Python 3 (ipykernel)",
   "language": "python",
   "name": "python3"
  },
  "language_info": {
   "codemirror_mode": {
    "name": "ipython",
    "version": 3
   },
   "file_extension": ".py",
   "mimetype": "text/x-python",
   "name": "python",
   "nbconvert_exporter": "python",
   "pygments_lexer": "ipython3",
   "version": "3.9.13"
  }
 },
 "nbformat": 4,
 "nbformat_minor": 5
}
