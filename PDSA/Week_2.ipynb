{
 "cells": [
  {
   "cell_type": "markdown",
   "id": "dc7f4bda",
   "metadata": {},
   "source": [
    "# Week 2"
   ]
  },
  {
   "cell_type": "markdown",
   "id": "9ea2fbb2",
   "metadata": {},
   "source": [
    "Orders of magnitude:  \n",
    "$$\\boxed{1<\\log n < \\sqrt{n} < n < n \\log n < n^2 < n^3 < 2^n < n!}$$\n",
    "\n",
    "#### Big O notation:\n",
    "$f(x)$ is said to be $O(g(x))$ if we can find constants $c$ and $x_0$ such that $c\\cdot g(x)$ is an upper bound for $f(x)$ for $x$ beyond $x_0$ that is, $$f(x) \\leq c \\cdot g(x) \\quad \\forall x \\geq x_0$$\n",
    "\n",
    "#### Lower Bound:\n",
    "$f(x)$ is said to be $\\Omega(g(x))$ if we can find constants $c$ and $x_0$ such that $c\\cdot g(x)$ is an lower bound for $f(x)$ for $x$ beyond $x_0$ that is, $$f(x) \\geq c \\cdot g(x) \\quad \\forall x \\geq x_0$$\n",
    "\n",
    "#### Tight Bound:\n",
    "$f(x)$ is said to be $\\Theta(g(x))$ if we can find constants $c_1$,$c_2$ and $x_0$ such that, $$c_1g(x) \\leq f(x) \\leq c_2g(x) \\quad \\forall x \\geq x_0$$\n",
    "\n",
    "<u> **Example 1:**</u>  \n",
    "1. $\\dfrac{n(n-1)}{2}$ is $\\Theta(n^2)$:  \n",
    "    - Upper Bound: $\\dfrac{n(n-1)}{2} = n^2/2 \\leq n^2/2$ for all $n\\geq 0$\n",
    "    - Lower Bound: $\\dfrac{n(n-1)}{2} = n^2/2 - n/2 \\geq n^2/2- (n/2 \\times n/2) \\geq n^2/4$ for all $n \\geq 2$\n",
    "\n",
    "<u> **Example 2:**</u>  \n",
    "1. _Number of bits_: The following code may look like it is of order $O(\\log n)$.\n",
    "    ```python\n",
    "    def numberofBits(n):\n",
    "        count=1\n",
    "        while n>1:\n",
    "            count = count+1\n",
    "            n=n//2\n",
    "        return count\n",
    "    ```\n",
    "    However, in number theoretic problems input size is number of digits, hence as input size is directly proportional to $\\log (n)$, the algorithm is linear.  \n",
    "\n",
    "2. _Tower of Hanoi_:\n",
    "    - An animated video by [Ivan Kutskir](https://blog.ivank.net/about) for [Tower of Hanoi problem with 6 disks](https://youtu.be/JqC_LsF1iWg?si=iTanbt-ux6D-lugn)\n",
    "    - Video on [Binary, Hanoi and Sierpinski](https://youtu.be/2SUvWfNJSsM?si=EK5CFiwwces4UGjx) by 3b1b"
   ]
  },
  {
   "cell_type": "markdown",
   "id": "7ecab036",
   "metadata": {},
   "source": [
    "## Searching Algorithm:"
   ]
  },
  {
   "cell_type": "markdown",
   "id": "2cd7a636",
   "metadata": {},
   "source": [
    "### Naive Search:\n",
    "- Input size: Length of list, $n$\n",
    "- Takes time: $O(n)$, worst case: when the value is not in list"
   ]
  },
  {
   "cell_type": "code",
   "execution_count": null,
   "id": "8d900361",
   "metadata": {},
   "outputs": [],
   "source": [
    "def naivesearch(v,l):\n",
    "    for x in l:\n",
    "        if v==x:\n",
    "            return True\n",
    "    return False"
   ]
  },
  {
   "cell_type": "markdown",
   "id": "1d9bea0e",
   "metadata": {},
   "source": [
    "### Binary search:\n",
    "- $O(\\log n)$\n",
    "- Time to search a list of length $n$ (more mathematical) :\n",
    "    $$\\begin{align}\n",
    "    T(n) &= T(n//2) + 1\\\\\n",
    "    &= (T(n/4)+1)+1 \\\\\n",
    "    &= T(n//2^{k})+ \\underbrace{1+ \\dots +1}_\\text{k-times} \\\\\n",
    "    &= T(1) + k \\quad \\text{for } k = \\log n\\\\\n",
    "    &= (T(0)+1)+\\log n \\\\\n",
    "    T(n)&= 2 +\\log n\n",
    "    \\end{align}$$"
   ]
  },
  {
   "cell_type": "code",
   "execution_count": null,
   "id": "c0ff1aed",
   "metadata": {},
   "outputs": [],
   "source": [
    "def binarysearch(v,l):\n",
    "    if l==[]:\n",
    "        return False\n",
    "    m = len(l)/2\n",
    "    if v==l[m]:\n",
    "        return True\n",
    "    if v<l[m]:\n",
    "        return binarysearch(v,l[:m])\n",
    "    else:\n",
    "        return binarysearch(v,l[m+1:])"
   ]
  },
  {
   "cell_type": "markdown",
   "id": "2dc02f3f",
   "metadata": {},
   "source": [
    "## Sorting:"
   ]
  },
  {
   "cell_type": "markdown",
   "id": "9d944b76",
   "metadata": {},
   "source": [
    "### Selection sort:\n",
    "- We have a list, we scan through the list and find the `i`'th minimum, and swap it with the value in `i`th place of the list\n",
    "- Worst case complexity : $O(n^2)$ (Infact, every input has the same complexity)"
   ]
  },
  {
   "cell_type": "code",
   "execution_count": 1,
   "id": "732b7923",
   "metadata": {},
   "outputs": [],
   "source": [
    "def SelectionSort(L):\n",
    "    n = len(L)\n",
    "    if n<1:\n",
    "        return L\n",
    "    for i in range(n):\n",
    "        mpos = i\n",
    "        for j in range(i+1,n):\n",
    "            if L[j]<L[mpos]:\n",
    "                mpos = j\n",
    "        (L[i],L[mpos]) = (L[mpos],L[i])\n",
    "    return (L)"
   ]
  },
  {
   "cell_type": "markdown",
   "id": "52d84a55",
   "metadata": {},
   "source": [
    "### Insertion sort\n",
    "- In python there are two default sorts, ``l.sort()`` and ``sorted(L)``, the first one returns the same list but sorted, the second one creates a new list and returns it not changing the original list passed as argument.\n",
    "- $T(n) = 0+1+\\dots+(n-1) = \\dfrac{n(n-1)}{2}$. Hence $T(n)$ is $O(n^2)$ \n",
    "- Here worst case algorithm for insertion sort is $O(n^2)$ but its not the same for every input."
   ]
  },
  {
   "cell_type": "code",
   "execution_count": 7,
   "id": "9bb0ca14",
   "metadata": {},
   "outputs": [],
   "source": [
    "def InsertionSort(L):\n",
    "    n = len(L)\n",
    "    if n<1:\n",
    "        return (L)\n",
    "    for i in range(n):\n",
    "        j=1\n",
    "        while(j>0 and L[j]<L[j-1]):\n",
    "            (L[j],L[j-1]) = (L[j-1],L[j])\n",
    "            j=j-1\n",
    "    return (L)"
   ]
  },
  {
   "cell_type": "code",
   "execution_count": 8,
   "id": "14993159",
   "metadata": {},
   "outputs": [],
   "source": [
    "# Recursive Insertion sort\n",
    "def Insert(L,v):\n",
    "    n=len(L)\n",
    "    if n==0:\n",
    "        return ([v])\n",
    "    if v>= L[-1]:\n",
    "        return (L+[v])\n",
    "    else:\n",
    "        return (Insert(L[:-1],v)+L[-1:])\n",
    "def RecursiveInsertionSort(L):\n",
    "    n = len(L)\n",
    "    if n<1:\n",
    "        return (L)\n",
    "    L=Insert(RecursiveInsertionSort(L[:-1]),L[-1])\n",
    "    return (L)"
   ]
  },
  {
   "cell_type": "markdown",
   "id": "a1562b1f",
   "metadata": {},
   "source": [
    "### Merge sort\n",
    "Divide the list into two halves, say A and B, sort them and combine them to form final sorted list C.\n",
    "- **How do we merge A and B?**  \n",
    "    Suppose we have the two lists sitting as two columns facing towards us, we compare the elements at the front of two columns, and the smaller among the two goes to list C.\n",
    "- **How do we sort A and B?**  \n",
    "    Recursive, we sort each half by breaking it into further two halves and sort each of them."
   ]
  },
  {
   "cell_type": "code",
   "execution_count": null,
   "id": "6e223f94",
   "metadata": {},
   "outputs": [],
   "source": [
    "def merge(A,B):\n",
    "    (m,n) = (len(A),len(B))\n",
    "    (C,i,j,k) = ([],0,0,0)\n",
    "    while k<m+n:\n",
    "        if i==m:\n",
    "            C.extend(B[j:])\n",
    "            k = k + (n-j)\n",
    "        elif j==n:\n",
    "            C.extend(A[i:])\n",
    "            k = k + (n-i)\n",
    "        elif A[i]<B[j]:\n",
    "            C.append(A[i])\n",
    "            (i,k) = (i+1,k+1)\n",
    "        else:\n",
    "            C.append(B[j])\n",
    "            (j,k) = (j+1,k+1)\n",
    "    return C\n",
    "\n",
    "def mergesort(A):\n",
    "    n = len(A)\n",
    "    \n",
    "    if n<=1:\n",
    "        return A\n",
    "    \n",
    "    L = mergesort(A[:n//2])\n",
    "    R = mergesort(A[n//2:])\n",
    "    B = merge(L,R)\n",
    "    \n",
    "    return B"
   ]
  },
  {
   "cell_type": "markdown",
   "id": "ed4ca80b",
   "metadata": {},
   "source": [
    "- ``merge`` takes time $O(m+n)$, for $m \\approx n$, it is essentially $O(n)$ (linear).\n",
    "- For ``mergesort``,  lets assume $n=2^k$ for some $k$.  \n",
    "    Now, $T(0) = T(1) = 1$  and :\n",
    "    $$\\begin{align*}T(n) =& 2T(n/2)+n\\\\ =& 2[2T(n/4)+n/2]+n\\\\ =& 2^k T(n/2^k)+kn \\end{align*}$$\n",
    "    So when $k=\\log n$, $T(n/2^k)=T(1) = 1$ and \n",
    "    $$\\begin{align*} T(n) = 2^{\\log n} T(1)+(\\log n)n\\\\ \\boxed{T(n)= n+n \\log n} \\end{align*}$$\n",
    "- Hence $T(n)$ is $O(n \\log n)$\n",
    "- Merge sort requires to have a new list to store sorted list, extra storage can be costly\n",
    "- Recursive calls and return are expensive"
   ]
  },
  {
   "cell_type": "code",
   "execution_count": null,
   "id": "71008f3f",
   "metadata": {},
   "outputs": [],
   "source": []
  }
 ],
 "metadata": {
  "kernelspec": {
   "display_name": "Python 3 (ipykernel)",
   "language": "python",
   "name": "python3"
  },
  "language_info": {
   "codemirror_mode": {
    "name": "ipython",
    "version": 3
   },
   "file_extension": ".py",
   "mimetype": "text/x-python",
   "name": "python",
   "nbconvert_exporter": "python",
   "pygments_lexer": "ipython3",
   "version": "3.12.2"
  }
 },
 "nbformat": 4,
 "nbformat_minor": 5
}
